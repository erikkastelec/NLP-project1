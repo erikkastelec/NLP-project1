{
 "cells": [
  {
   "cell_type": "code",
   "execution_count": 1,
   "metadata": {},
   "outputs": [],
   "source": [
    "from ECKG.src.baseline import BaselineController, MentionPairFeatures\n",
    "from contextual_model_bert import ContextualControllerBERT\n",
    "from data import read_classla, read_corpus\n",
    "from eventify import *\n",
    "from helper_functions import *\n",
    "\n",
    "import urllib.request\n",
    "\n",
    "sl_text  = \"Ljubljana - Evropska komisija je Sloveniji za letos napovedala 1,9 - odstotno rast , za naslednje leto pa 2,5 - odstotno , kar je nad povprečjem v območju evra in EU . Sicer pa bo Slovenija letos po napovedih iz Bruslja beležila 5,8 - odstotni javnofinančni primanjkljaj , naslednje leto pa petodstotnega , kar je slabše od povprečja v območju evra in EU . Javni dolg Slovenije se bo po napovedih komisije vztrajno večal , a bo še vedno bistveno pod povprečjem območja evra in EU ter bistveno pod referenčno mejo 60 odstotkov bruto domačega proizvoda ( BDP ) , ki jo določa pakt za stabilnost in rast . Za letos komisija Sloveniji napoveduje 42,8 - odstotni dolg , za prihodnje leto pa 46 - odstotnega . Poleg tega Evropska komisija Sloveniji za letos napoveduje 2,6 - odstotno inflacijo , za prihodnje leto pa 2,1 - odstotno . Inflacija v Sloveniji bo tako letos po napovedih komisije enaka kot v povprečju v območju evra in pod povprečjem EU , prihodnje leto pa nekoliko nad povprečjem v območju evra in celotne EU . Po napovedih iz Bruslja bo Slovenija letos beležila večjo brezposelnost kot lani . Medtem ko je bila ta lani po ocenah komisije 7,3 - odstotna , naj bi bila letos 8,2 - odstotna , prihodnje leto pa osemodstotna . To je še vedno manj kot v povprečju v območju evra in celotne EU , kjer naj bi bila letos 10 - odstotna , prihodnje leto pa 9,7 - odstotna oziroma 9,5 - odstotna in 9,1 - odstotna . V lanski novembrski gospodarski napovedi je komisija Sloveniji za letos prav tako napovedala 1,9 - odstotno rast , za leto 2012 pa 2,6 - odstotno , a njene napovedi za javnofinančni primanjkljaj Slovenije so bile novembra boljše kot danes . Novembra je namreč napovedala , da bo ta v Sloveniji letos 5,3 - odstoten , naslednje leto pa 4,7 - odstoten . Slovenija je sicer - kot velika večina držav EU - zaradi prekomernega javnofinančnega primanjkljaja v postopku Evropske komisije . Evropska komisija je kot rok za znižanje javnofinančnega primanjkljaja Slovenije pod tri odstotke BDP , kar kot zgornjo mejo določa pakt za stabilnost in rast , določila leto 2013 . Slovenija je po navedbah finančnega ministrstva v programu stabilnosti , ki ga je posredovala Evropski komisiji , zapisala , da za leto 2012 načrtuje znižanje primanjkljaja na 3,9 odstotka BDP . Na zvišanje letošnjega primanjkljaja bo sicer po navedbah komisije vplivala dokapitalizacija največje slovenske banke , Nove Ljubljanske banke . Glede primanjkljaja v letu 2012 je komisija zapisala , da je izračunan ob predpostavki , da ne bo dodatnih ukrepov . Glede nadaljnjih ukrepov za zajezitev izdatkov v letu 2012 sicer komisija ugotavlja , da ti v glavnem še niso podrobno opredeljeni in dogovorjeni . Glede gospodarske rasti pa Evropska komisija v primeru Slovenije ugotavlja razmeroma medlo okrevanje , ki temelji na izvozu . Ta pa je po njenih navedbah ohromljen zaradi izgub konkurenčnosti , ki so se nabrale pred in med krizo , ter zaradi usmerjenosti izvoza na gospodarsko šibek Zahodni Balkan . Drugi dejavnik , ki zavira gospodarsko rast Slovenije , so po navedbah Evropske komisije razmere v gradbeništvu . Poleg tega se je po navedbah komisije v prizadevanjih bank za izboljšanje svojih bilanc skrčil tudi tok posojil v realno gospodarstvo\"\n",
    "\n",
    "\n",
    "# Download text and decode\n",
    "# Note: Set proxy if behind a proxy (https://docs.python.org/2/library/urllib.html)\n",
    "url = \"http://www.gutenberg.org/files/1342/1342-0.txt\"\n",
    "en_text = urllib.request.urlopen(url).read().decode()\n",
    "en_text = \".\".join(en_text.split(\".\")[20:50])\n",
    "\n"
   ]
  },
  {
   "cell_type": "markdown",
   "metadata": {},
   "source": [
    "## Slovene Coreference resolution"
   ]
  },
  {
   "cell_type": "code",
   "execution_count": 18,
   "metadata": {
    "pycharm": {
     "name": "#%%\n"
    }
   },
   "outputs": [
    {
     "name": "stderr",
     "output_type": "stream",
     "text": [
      "INFO:root:Initialized baseline model with name baseline_model_senticoref\n",
      "INFO:root:Initialized baseline model with name baseline_model_senticoref\n",
      "Some weights of the model checkpoint at EMBEDDIA/crosloengual-bert were not used when initializing BertModel: ['cls.predictions.transform.dense.weight', 'cls.seq_relationship.bias', 'cls.predictions.decoder.weight', 'cls.seq_relationship.weight', 'cls.predictions.transform.dense.bias', 'cls.predictions.transform.LayerNorm.bias', 'cls.predictions.transform.LayerNorm.weight', 'cls.predictions.bias']\n",
      "- This IS expected if you are initializing BertModel from the checkpoint of a model trained on another task or with another architecture (e.g. initializing a BertForSequenceClassification model from a BertForPreTraining model).\n",
      "- This IS NOT expected if you are initializing BertModel from the checkpoint of a model that you expect to be exactly identical (initializing a BertForSequenceClassification model from a BertForSequenceClassification model).\n",
      "INFO:root:Initialized contextual BERT-based model with name fold7_0.\n"
     ]
    },
    {
     "name": "stdout",
     "output_type": "stream",
     "text": [
      "ORIGINAL CLUSTERS\n",
      "['Ljubljana']\n",
      "['Evropska komisija', 'komisije', 'komisija', 'Evropska komisija', 'komisije', 'komisije', 'komisija', 'njene', 'napovedala', 'Evropske komisije', 'Evropska komisija', 'Evropski komisiji', 'komisija', 'komisija', 'Evropska komisija', 'njenih', 'Evropske komisije', 'komisije']\n",
      "['Sloveniji', 'Slovenija', 'Slovenije', 'Sloveniji', 'Sloveniji', 'Sloveniji', 'Slovenija', 'Sloveniji', 'Slovenije', 'Sloveniji', 'Slovenija', 'Slovenije', 'Slovenija', 'posredovala', 'načrtuje', 'Slovenije', 'Slovenije']\n",
      "['EU', 'EU', 'EU', 'EU', 'EU', 'EU', 'EU']\n",
      "['Bruslja', 'Bruslja']\n",
      "['največje slovenske banke', 'Nove Ljubljanske banke']\n",
      "['Zahodni Balkan']\n",
      "PREDICTED CLUSTERS\n",
      "Sloveniji :\n",
      "['Slovenija', 'Slovenije', 'Slovenija']\n",
      "EU :\n",
      "['EU', 'EU']\n",
      "Evropska komisija :\n",
      "['komisije', 'komisija', 'Evropska komisija']\n",
      "Slovenija :\n",
      "['Sloveniji', 'Sloveniji']\n",
      "Sloveniji :\n",
      "['Sloveniji', 'Slovenija', 'Slovenije']\n",
      "komisije :\n",
      "['komisije', 'komisija', 'njenih']\n",
      "EU :\n",
      "['EU']\n",
      "EU :\n",
      "['EU', 'Evropske komisije']\n",
      "Bruslja :\n",
      "['Bruslja']\n",
      "komisije :\n",
      "['komisije', 'komisija']\n",
      "EU :\n",
      "['EU']\n",
      "komisije :\n",
      "['komisija', 'njene', 'komisije']\n",
      "Sloveniji :\n",
      "['Sloveniji', 'Slovenije']\n",
      "Slovenije :\n",
      "['Slovenije', 'Sloveniji']\n",
      "njene :\n",
      "['napovedala']\n",
      "Slovenija :\n",
      "['Slovenija', 'največje slovenske banke']\n",
      "EU :\n",
      "['EU']\n",
      "Evropske komisije :\n",
      "['Evropska komisija', 'Evropski komisiji', 'Evropska komisija', 'Evropske komisije']\n",
      "napovedala :\n",
      "['posredovala']\n",
      "Evropska komisija :\n",
      "['načrtuje']\n",
      "največje slovenske banke :\n",
      "['Nove Ljubljanske banke']\n",
      "Slovenije :\n",
      "['Slovenije']\n"
     ]
    }
   ],
   "source": [
    "model_name = \"baseline_model_senticoref\"\n",
    "learning_rate = 0.05\n",
    "dataset_name = \"senticoref\"\n",
    "# BASELINE\n",
    "model = BaselineController(MentionPairFeatures.num_features(),\n",
    "                           model_name=model_name,\n",
    "                           learning_rate=learning_rate,\n",
    "                           dataset_name=dataset_name\n",
    "                           )\n",
    "model = BaselineController.from_pretrained(\"baseline_model/baseline_model_senticoref\")\n",
    "\n",
    "# CONTEXTUAL BERT\n",
    "model = ContextualControllerBERT.from_pretrained(\"contextual_model_bert/fold7_0\")\n",
    "\n",
    "# read corpus\n",
    "documents = read_corpus(dataset_name)\n",
    "\n",
    "# test on first document\n",
    "eval_doc = model._train_doc(documents[0], eval_mode=True)\n",
    "print(\"ORIGINAL CLUSTERS\")\n",
    "for cluster in documents[0].clusters:\n",
    "    print([\" \".join([y.raw_text for y in documents[0].mentions[x].tokens]) for x in cluster])\n",
    "print(\"PREDICTED CLUSTERS\")\n",
    "for key, values in eval_doc[0].items():\n",
    "    if key is None:\n",
    "        key = \"None\"\n",
    "    try:\n",
    "        print(\" \".join([y.raw_text for y in documents[0].mentions[key].tokens]), \":\")\n",
    "        print([\" \".join([y.raw_text for y in documents[0].mentions[x].tokens]) for x in values])\n",
    "    except KeyError:\n",
    "        continue\n",
    "# Evaluation for conll format produced by classla\n",
    "#     classla.download('sl')\n",
    "#     pipeline = classla.Pipeline(\"sl\", processors='tokenize,ner, lemma, pos, depparse', use_gpu=True)\n",
    "#\n",
    "#     # Analyze using classla/stanza to get Document format\n",
    "#     data = pipeline(sl_text)\n",
    "#     # Convert to conll format\n",
    "#     data = data.to_conll()\n",
    "#     # Convert to format used by slovene-coreference-resolution library (https://github.com/matejklemen/slovene-coreference-resolution)\n",
    "#     # TODO: need to fix some mistakes when converting formats\n",
    "#     data = read_classla(data)\n",
    "    # res, _ = model._train_doc(data3, eval_mode=True)"
   ]
  },
  {
   "cell_type": "markdown",
   "metadata": {},
   "source": [
    "## NER + SVN triplet extraction"
   ]
  },
  {
   "cell_type": "markdown",
   "metadata": {},
   "source": [
    "### Slovene"
   ]
  },
  {
   "cell_type": "code",
   "execution_count": 2,
   "metadata": {
    "pycharm": {
     "name": "#%%\n"
    }
   },
   "outputs": [
    {
     "name": "stderr",
     "output_type": "stream",
     "text": [
      "Downloading https://raw.githubusercontent.com/clarinsi/classla-resources/main/resources_1.0.1.json: 10.3kB [00:00, 8.04MB/s]                   \n",
      "INFO:classla:Downloading these customized packages for language: sl (Slovenian)...\n",
      "========================\n",
      "| Processor | Package  |\n",
      "------------------------\n",
      "| tokenize  | standard |\n",
      "| pos       | standard |\n",
      "| lemma     | standard |\n",
      "| depparse  | standard |\n",
      "| ner       | standard |\n",
      "| pretrain  | standard |\n",
      "========================\n",
      "\n",
      "INFO:classla:File exists: /home/erikkastelec/classla_resources/sl/pos/standard.pt.\n",
      "INFO:classla:File exists: /home/erikkastelec/classla_resources/sl/lemma/standard.pt.\n",
      "INFO:classla:File exists: /home/erikkastelec/classla_resources/sl/depparse/standard.pt.\n",
      "INFO:classla:File exists: /home/erikkastelec/classla_resources/sl/ner/standard.pt.\n",
      "INFO:classla:File exists: /home/erikkastelec/classla_resources/sl/pretrain/standard.pt.\n",
      "INFO:classla:Finished downloading models and saved to /home/erikkastelec/classla_resources.\n",
      "INFO:classla:Loading these models for language: sl (Slovenian):\n",
      "========================\n",
      "| Processor | Package  |\n",
      "------------------------\n",
      "| tokenize  | standard |\n",
      "| pos       | standard |\n",
      "| lemma     | standard |\n",
      "| depparse  | standard |\n",
      "| ner       | standard |\n",
      "========================\n",
      "\n",
      "INFO:classla:Use device: gpu\n",
      "INFO:classla:Loading: tokenize\n",
      "INFO:classla:Loading: pos\n",
      "INFO:classla:Loading: lemma\n",
      "INFO:classla:Loading: depparse\n",
      "INFO:classla:Loading: ner\n",
      "INFO:classla:Done loading processors!\n"
     ]
    }
   ],
   "source": [
    "# Initialize Slovene classla pipeline\n",
    "classla.download('sl')\n",
    "sl_pipeline = classla.Pipeline(\"sl\", processors='tokenize,ner, lemma, pos, depparse', use_gpu=True)\n",
    "e = Eventify(language=\"sl\")"
   ]
  },
  {
   "cell_type": "code",
   "execution_count": 8,
   "metadata": {
    "pycharm": {
     "name": "#%%\n"
    }
   },
   "outputs": [
    {
     "name": "stdout",
     "output_type": "stream",
     "text": [
      "EXTRACTED NAMED ENTITIES\n",
      "['Rdeča kapica', 'Rdeča kapica', 'Rdeča kapica', 'Rdeča kapica', 'Rdeča', 'Rdeča kapica', 'Rdečo kapico', 'Volk', 'Rdečo kapico', 'Rdeča kapica', 'Rdeča kapica', 'Rdeča kapica']\n",
      "{'Rdeča kapica': 11, 'Volk': 1}\n",
      "DEDUPLICATION MAPPER\n",
      "{'Rdeča kapica': 'Rdeča kapica', 'Rdeča': 'Rdeča kapica', 'Rdečo kapico': 'Rdeča kapica', 'Volk': 'Volk'}\n",
      "SVO TRIPLETS / EVENTS\n",
      "Rdeča kapica   srečati   volka\n",
      "volk   spremljati   Rdečo kapico\n",
      "{'jo': 'jo', 'vsak': 'vsak', 'babica': 'babica', 'Babica': 'babica', 'deklici': 'deklici', 'Ta': 'Ta', 'vsi': 'vsi', 'Rdeča kapica': 'Rdeča kapica', 'Rdečo kapico': 'Rdeča kapica', 'ji': 'ji', 'mama': 'mama', 'ničesar': 'ničesar', 'volk': 'volk', 'Kaj': 'Kaj', 'vino': 'vino', 'vina': 'vino', 'mala deklica': 'mala deklica', 'del poti': 'del poti', 'ti': 'ti', 'cvetlice': 'cvetlice', 'čuden občutek': 'čuden občutek', 'lakoto': 'lakoto', 'tega': 'tega', 'lovec': 'lovec', 'ga': 'ga', 'mi': 'mi'}\n",
      "{'jo': 9, 'vsak': 1, 'babica': 3, 'deklici': 1, 'Ta': 2, 'vsi': 1, 'Rdeča kapica': 6, 'ji': 3, 'mama': 2, 'ničesar': 1, 'volk': 4, 'Kaj': 1, 'vino': 2, 'mala deklica': 1, 'del poti': 1, 'ti': 1, 'cvetlice': 1, 'čuden občutek': 1, 'lakoto': 1, 'tega': 3, 'lovec': 1, 'ga': 1, 'mi': 1}\n",
      "[('Rdeča kapica', 'Volk'), ('Rdeča kapica', 'jo'), ('Rdeča kapica', 'ji'), ('Rdeča kapica', 'del poti'), ('Rdeča kapica', 'cvetlice'), ('Rdeča kapica', 'tega'), ('Rdeča kapica', 'ga'), ('jo', 'vsak'), ('jo', 'babica'), ('jo', 'Ta'), ('jo', 'vsi'), ('jo', 'mala deklica'), ('jo', 'volk'), ('jo', 'čuden občutek'), ('ji', 'mama'), ('ji', 'volk'), ('tega', 'babica'), ('tega', 'lovec'), ('babica', 'ničesar'), ('Ta', 'deklici'), ('volk', 'lakoto'), ('mama', 'mi'), ('vino', 'Kaj'), ('vino', 'ti')]\n"
     ]
    }
   ],
   "source": [
    "\n",
    "sl_text  = \"Ljubljana - Evropska komisija je Sloveniji za letos napovedala 1,9 - odstotno rast , za naslednje leto pa 2,5 - odstotno , kar je nad povprečjem v območju evra in EU . Sicer pa bo Slovenija letos po napovedih iz Bruslja beležila 5,8 - odstotni javnofinančni primanjkljaj , naslednje leto pa petodstotnega , kar je slabše od povprečja v območju evra in EU . Javni dolg Slovenije se bo po napovedih komisije vztrajno večal , a bo še vedno bistveno pod povprečjem območja evra in EU ter bistveno pod referenčno mejo 60 odstotkov bruto domačega proizvoda ( BDP ) , ki jo določa pakt za stabilnost in rast . Za letos komisija Sloveniji napoveduje 42,8 - odstotni dolg , za prihodnje leto pa 46 - odstotnega . Poleg tega Evropska komisija Sloveniji za letos napoveduje 2,6 - odstotno inflacijo , za prihodnje leto pa 2,1 - odstotno . Inflacija v Sloveniji bo tako letos po napovedih komisije enaka kot v povprečju v območju evra in pod povprečjem EU , prihodnje leto pa nekoliko nad povprečjem v območju evra in celotne EU . Po napovedih iz Bruslja bo Slovenija letos beležila večjo brezposelnost kot lani . Medtem ko je bila ta lani po ocenah komisije 7,3 - odstotna , naj bi bila letos 8,2 - odstotna , prihodnje leto pa osemodstotna . To je še vedno manj kot v povprečju v območju evra in celotne EU , kjer naj bi bila letos 10 - odstotna , prihodnje leto pa 9,7 - odstotna oziroma 9,5 - odstotna in 9,1 - odstotna . V lanski novembrski gospodarski napovedi je komisija Sloveniji za letos prav tako napovedala 1,9 - odstotno rast , za leto 2012 pa 2,6 - odstotno , a njene napovedi za javnofinančni primanjkljaj Slovenije so bile novembra boljše kot danes . Novembra je namreč napovedala , da bo ta v Sloveniji letos 5,3 - odstoten , naslednje leto pa 4,7 - odstoten . Slovenija je sicer - kot velika večina držav EU - zaradi prekomernega javnofinančnega primanjkljaja v postopku Evropske komisije . Evropska komisija je kot rok za znižanje javnofinančnega primanjkljaja Slovenije pod tri odstotke BDP , kar kot zgornjo mejo določa pakt za stabilnost in rast , določila leto 2013 . Slovenija je po navedbah finančnega ministrstva v programu stabilnosti , ki ga je posredovala Evropski komisiji , zapisala , da za leto 2012 načrtuje znižanje primanjkljaja na 3,9 odstotka BDP . Na zvišanje letošnjega primanjkljaja bo sicer po navedbah komisije vplivala dokapitalizacija največje slovenske banke , Nove Ljubljanske banke . Glede primanjkljaja v letu 2012 je komisija zapisala , da je izračunan ob predpostavki , da ne bo dodatnih ukrepov . Glede nadaljnjih ukrepov za zajezitev izdatkov v letu 2012 sicer komisija ugotavlja , da ti v glavnem še niso podrobno opredeljeni in dogovorjeni . Glede gospodarske rasti pa Evropska komisija v primeru Slovenije ugotavlja razmeroma medlo okrevanje , ki temelji na izvozu . Ta pa je po njenih navedbah ohromljen zaradi izgub konkurenčnosti , ki so se nabrale pred in med krizo , ter zaradi usmerjenosti izvoza na gospodarsko šibek Zahodni Balkan . Drugi dejavnik , ki zavira gospodarsko rast Slovenije , so po navedbah Evropske komisije razmere v gradbeništvu . Poleg tega se je po navedbah komisije v prizadevanjih bank za izboljšanje svojih bilanc skrčil tudi tok posojil v realno gospodarstvo\"\n",
    "\n",
    "sl_text = \"Nekoč je živela majhna deklica. Bila je tako zelo ljubka, da jo je vsak že na prvi pogled vzljubil.\" \\\n",
    "          \" Izmedvseh ljudi na tem svetu pa jo je imela najraje njena babica. Ni je bilo stvari, ki je ne bi naredila zanjo.Nekega dne ji je podarila žametno rdečo kapico.\" \\\n",
    "          \" Ta je bila deklici tako zelo všeč, da jo je nosila, kamorkoli je šla.\" \\\n",
    "          \" Zato so jo vsi klicali Rdeča kapica.Nekega dne ji je mama rekla: \\\"Pridi, Rdeča kapica. Tukaj je kos potice in steklenica vina, nesi ju svoji babici.\" \\\n",
    "          \" Zelo je bolna in slabotna. Okrepčilo ji bo dobro delo.\" \\\n",
    "          \" Pa le hitro se odpravi, preden postane prevroče.\" \\\n",
    "          \" Hodi previdno in tiho. Predvsem pa ne zahajaj s poti, da ne boš padla in razbila steklenice, ker potem babica ne bo dobila ničesar.\" \\\n",
    "          \" Ko vstopiš v sobo, ne pozabi reči \\\"Dobro jutro,\\\" in ne preglej vsakega kotička preden to storiš.\" \\\n",
    "          \"\\\"Pazljiva bom,\\\" ji je obljubila Rdeča kapica. Babica je živela globoko v gozdu, za dobro uro hoda stran.\" \\\n",
    "          \" Ko je Rdeča kapica vstopila v gozd, ji je naproti stopil volk.\" \\\n",
    "          \" Ker Rdeča kapica še nikdar ni srečala volka in ni vedela, kako zlobna in prebrisana je ta zver, se ga sploh ni bala.\" \\\n",
    "          \"\\\"Pozdravljena, Rdeča kapica,\\\" je rekel volk.\\\n",
    "\\\"Hvala enako, prijazni volk.\\\"\\\n",
    "\\\"Kam pa kam tako zarana, Rdeča kapica?\\\"\\\n",
    "\\\"K babici.\\\"\\\n",
    "\\\"Kaj pa nosiš v košarici?\\\"\\\n",
    "\\\"Potico in vino, včeraj je mama pekla. Uboga bolna babica bo\\\n",
    "dobila nekaj dobrega za pod zob. Da se okrepča.\\\"\\\n",
    "\\\"Kje pa živi tvoja babica?\\\"\\\n",
    "\\\"Dobro uro hoda tja globoko v gozd. Njena hiša stoji pod tremi hrasti, in leske rastejo vse naokrog. Prav\\\n",
    "gotovo si jo že videl,\\\" je odgovorila Rdeča kapica.\\\n",
    "Volk si je mislil: \\\"Oh, kako okusna bo tale mala deklica, ko jo bom snedel. Precej boljša kot stara ženička.\\\n",
    "Ampak, če bom dovolj prebrisan, bom lahko pohrustal obe.\\\" Tako je volk del poti spremljal Rdečo kapico, preden se je spet oglasil: \\\"Poglej, Rdeča kapica, kako lepe rože rastejo povsod tu naokrog. In\\\n",
    "samo poslušaj, kako lepo pojejo vse te ptičice. Ti pa tako resno hodiš, kot bi bila na poti v šolo. Vse\\\n",
    "naokrog pa je tako čarobno.\\\" Medtem pa jo je volk po najkrajši možni poti ucvrl naravnost do babičine\\\n",
    "hiše in potrkal na vrata.\\\n",
    "\\\"Kdo je?\\\"\\\n",
    "\\\"Rdeča kapica. Prinesla sem ti potice in vina. Odpri mi vrata.\\\"\\\n",
    "\\\"Kar odpri si,\\\" je zaklicala babica. \\\"Preslabotna sem in ne morem vstati.\\\"\\\n",
    "Volk je pritisnil na kljuko in vrata so se na stežaj odprla. Brez besed je vstopil in planil naravnost na\\\n",
    "babičino posteljo. V enem samem grižljaju jo je požrl. Potem si je nadel babičina oblačila in poveznil\\\n",
    "nočno kapo na glavo. Zagrnil je zavese in se udobno ulegel v babičino posteljo.\\\n",
    "Rdeča kapica je ves ta čas tekala po gozdu in nabirala cvetlice. Ko jih je nabrala toliko, da jih je že komaj\\\n",
    "držala, se je spomnila na babico in se končno odpravila do nje.\\\n",
    "Bila je presenečena, ko je našla vrata babičine hiše na stežaj odprta. Ko je vstopila, jo je prevzel čuden občutek. Potiho si je rekla: \\\"Oh. Danes se pa tukaj tako tesnobno počutim. Do sedaj mi je bilo pri babici vedno prijetno.\\\" Glasno je zaklicala: \\\"Dobro jutro.\\\" Vendar odgovora ni dobila. Počasi je stopila do\\ babičine postelje in odgrnila zavese. Zagledala je babico, ki je imela kapo poveznjeno skoraj čez cel\\\n",
    "obraz. Zelo čudna se ji je zdela.\\\n",
    "\\\"Joj, babica, kako velika ušesa imaš!\\\"\\\n",
    "\\\"Da te bolje slišim, otrok moj,\\\" je dobila v odgovor.\\\n",
    "\\\"Joj babica, kako velike oči imaš!\\\"\\\n",
    "\\\"Da te bolje vidim, draga moja.\\\"\\\n",
    "\\\"Toda babica, kako velike roke imaš!\\\"\\\n",
    "\\\"Da te lažje objamem.\\\"\\\n",
    "\\\"Oh. Babica. Kako grozno velika usta imaš!\\\"\\\n",
    "\\\"Da te lažje požrem!\\\"\\\n",
    "Še preden je volk do konca odgovoril, je že planil iz postelje\\\n",
    "in Rdečo kapico celo pogoltnil.\\\n",
    "Ko je volk pomiril svojo lakoto, je legel nazaj v posteljo in v trenutku zaspal. Ravno takrat je šel mimo\\\n",
    " hiše lovec in si mislil: \\\"Kako glasno babica danes smrči. Grem in jo vprašam, če morda kaj potrebuje.\\\"\\\n",
    "Vstopil je v hišo in ko je pristopil k postelji, je zagledal, da tam namesto babice leži volk. \\\"Aha, tukaj\" \\\n",
    "          \" sem te našel!\\\" si je tiho rekel. \\\"Dolgo sem te iskal.\\\" Vanj je nameril svojo puško. Ravno, ko je hotel\\\n",
    "ustreliti, je pomislil, da je volk morda požrl babico in bi jo še lahko rešil. Zato je raje v roke vzel škarje\\\n",
    "in volku začel rezati trebuh. Že takoj po prvem rezu, je v volkovem trebuhu opazil nekaj rdečega. Hitro je naredil še dva reza in iz kosmatinčevega trebuha je ven skočila Rdeča kapica. Glasno je zajokala: \\\"Oh,\\\n",
    "kako me je bilo strah. V volkovem trebuhu je tako zelo temno.\\\" Takoj za tem je ven prilezla še babica,\\\n",
    "ki je komaj še dihala. Rdeča kapica je nato hitro nabrala nekaj velikih kamnov, s katerimi so napolnili\\\n",
    "volkov trebuh. Ko se je volk zbudil, je bil zelo žejen. Šel je k vodnjaku, da popije malo vode, vendar so\\\n",
    "bili kamni v njegovem trebuhu pretežki, zato je padel v vodnjak in poginil.\\\n",
    "Babica, Rdeča kapica in lovec so se tega zelo razveselili. Skupaj so pojedli potico, babica in lovec sta spila vino, ki ga je prinesla Rdeča kapica. Babica se je tako dobro okrepčala. Rdeča kapica pa si je mislila:\\\"Dokler bom živa, ne bom nikoli več skrenila s poti in tekala po gozdu, če mi bo mama tako rekla.\\\"\"\n",
    "\n",
    "# Analyze using classla/stanza to get Document format\n",
    "data = sl_pipeline(sl_text)\n",
    "print(\"extracted named entities\".upper())\n",
    "data = fix_ner(data)\n",
    "\n",
    "print([\" \".join([y.text for y in x.tokens]) for x in data.entities])\n",
    "\n",
    "\n",
    "# Run named entity deduplication/resolution\n",
    "deduplication_mapper, count = deduplicate_named_entities(data, count_entities=True)\n",
    "print(count)\n",
    "print(\"deduplication mapper\".upper())\n",
    "print(deduplication_mapper)\n",
    "dedup_keys = deduplication_mapper.keys()\n",
    "# SVO triplet / event extraction\n",
    "# Extract SVO triplets / events\n",
    "events = e.eventify(sl_text)\n",
    "\n",
    "print(\"SVO triplets / events\".upper())\n",
    "NER_containing_events = []\n",
    "event_entity_count = {}\n",
    "event_entities = []\n",
    "event_tmp = []\n",
    "for s, v, o in events:\n",
    "    if isinstance(s, tuple) or isinstance(o, tuple):\n",
    "        continue\n",
    "    #print(s, \"        \", v, \" \", o)\n",
    "    s_sim = find_similar(s, dedup_keys)\n",
    "    o_sim = find_similar(o, dedup_keys)\n",
    "    if s_sim is not None and o_sim is not None:\n",
    "        print(s,\" \", v, \" \", o)\n",
    "        s = deduplication_mapper[s_sim]\n",
    "        o = deduplication_mapper[o_sim]\n",
    "        NER_containing_events.append((s, v, o))\n",
    "    elif s != '<|EMPTY|>' and o != '<|EMPTY|>' and len(s.split()) < 3 and len(o.split()) < 3:\n",
    "        event_entities.append(o)\n",
    "        event_entities.append(s)\n",
    "        try:\n",
    "            event_entity_count[s] += 1\n",
    "        except KeyError:\n",
    "            event_entity_count[s] = 1\n",
    "        try:\n",
    "            event_entity_count[o] += 1\n",
    "        except KeyError:\n",
    "            event_entity_count[o] = 1\n",
    "        event_tmp.append((s, v, o))\n",
    "\n",
    "\n",
    "deduplication_mapper, count = deduplicate_named_entities(event_entities, count_entities=True)\n",
    "for s, v, o in event_tmp:\n",
    "    NER_containing_events.append((deduplication_mapper[s], v, deduplication_mapper[o]))\n",
    "print(deduplication_mapper)\n",
    "print(count)\n",
    "graph = create_graph_from_pairs(NER_containing_events)\n",
    "print(graph.edges)\n",
    "#TODO: Replace with coreferences and map with deduplication mapper"
   ]
  },
  {
   "cell_type": "markdown",
   "metadata": {
    "pycharm": {
     "name": "#%% md\n"
    }
   },
   "source": [
    "### English"
   ]
  },
  {
   "cell_type": "code",
   "execution_count": 5,
   "metadata": {
    "pycharm": {
     "name": "#%%\n"
    }
   },
   "outputs": [
    {
     "data": {
      "application/vnd.jupyter.widget-view+json": {
       "model_id": "fb7c279403d649e5ac28ac55fdc10bdf",
       "version_major": 2,
       "version_minor": 0
      },
      "text/plain": [
       "Downloading https://raw.githubusercontent.com/stanfordnlp/stanza-resources/main/resources_1.4.0.json:   0%|   …"
      ]
     },
     "metadata": {},
     "output_type": "display_data"
    },
    {
     "name": "stderr",
     "output_type": "stream",
     "text": [
      "INFO:stanza:Downloading default packages for language: en (English)...\n",
      "INFO:stanza:File exists: /home/erikkastelec/stanza_resources/en/default.zip\n",
      "INFO:stanza:Finished downloading models and saved to /home/erikkastelec/stanza_resources.\n"
     ]
    },
    {
     "data": {
      "application/vnd.jupyter.widget-view+json": {
       "model_id": "c6745ffd56104e26a9565880e0ccf758",
       "version_major": 2,
       "version_minor": 0
      },
      "text/plain": [
       "Downloading https://raw.githubusercontent.com/stanfordnlp/stanza-resources/main/resources_1.4.0.json:   0%|   …"
      ]
     },
     "metadata": {},
     "output_type": "display_data"
    },
    {
     "name": "stderr",
     "output_type": "stream",
     "text": [
      "INFO:stanza:Loading these models for language: en (English):\n",
      "=========================\n",
      "| Processor | Package   |\n",
      "-------------------------\n",
      "| tokenize  | combined  |\n",
      "| pos       | combined  |\n",
      "| lemma     | combined  |\n",
      "| depparse  | combined  |\n",
      "| ner       | ontonotes |\n",
      "=========================\n",
      "\n",
      "INFO:stanza:Use device: gpu\n",
      "INFO:stanza:Loading: tokenize\n",
      "INFO:stanza:Loading: pos\n",
      "INFO:stanza:Loading: lemma\n",
      "INFO:stanza:Loading: depparse\n",
      "INFO:stanza:Loading: ner\n",
      "INFO:stanza:Done loading processors!\n"
     ]
    }
   ],
   "source": [
    "# Initialize English stanza pipeline\n",
    "stanza.download(\"en\")\n",
    "en_pipeline = stanza.Pipeline(\"en\", processors='tokenize,ner, lemma, pos, depparse', use_gpu=True)"
   ]
  },
  {
   "cell_type": "code",
   "execution_count": 15,
   "metadata": {
    "pycharm": {
     "name": "#%%\n"
    }
   },
   "outputs": [
    {
     "name": "stdout",
     "output_type": "stream",
     "text": [
      "EXTRACTED NAMED ENTITIES\n",
      "['Bingley', 'four or five thousand', 'Bennet', 'one', 'one', 'Bingley', 'five', 'Bingley', 'one', 'William', 'Lady Lucas', 'Bingley', 'Lizzy', 'Lizzy', 'Jane', 'Lydia', 'Lizzy', 'Bennet']\n",
      "DEDUPLICATION MAPPER\n",
      "{'Bingley': 'Bingley', 'four or five thousand': 'four or five thousand', 'Bennet': 'Bennet', 'one': 'one', 'five': 'five', 'William': 'William', 'Lady Lucas': 'Lady Lucas', 'Lizzy': 'Lizzy', 'Jane': 'Jane', 'Lydia': 'Lydia'}\n",
      "SVO TRIPLETS / EVENTS\n",
      "[('he', 'single', '<|EMPTY|>'), ('it', 'affect', 'them'), ('his wife', 'dear Mr. Bennet', '<|EMPTY|>'), ('his wife', 'reply', 'My dear Mr. Bennet'), ('his wife', 'reply', 'how you be so tiresome'), ('You', 'know', ('I', 'think', '<|EMPTY|>')), ('you', 'nonsense talk', '<|EMPTY|>'), ('he', 'fall', '<|EMPTY|>'), ('you', 'visit', 'him'), ('you', '', '<|EMPTY|>'), ('he', 'come', '<|EMPTY|>'), ('I', 'see', 'occasion for that'), ('You', 'go', '<|EMPTY|>'), ('girls', 'go', '<|EMPTY|>'), ('you', 'send', 'them'), ('Mr. Bingley', 'like', 'you'), ('you', 'my flatter', 'me'), ('I', 'have', 'my share of beauty'), ('I', 'pretend', '<|EMPTY|>'), ('woman', 'have', 'five grown up daughters'), ('she', 'ought', ('she', 'give over', 'thinking of her own beauty')), ('woman', 'have', 'not often much beauty think of'), ('you', 'go', '<|EMPTY|>'), ('you', 'see', 'Mr. Bingley'), ('he', 'come', '<|EMPTY|>'), ('I', 'engage', '<|EMPTY|>'), ('I', 'assure', 'It is more I engage for'), ('I', 'assure', 'you'), ('<|EMPTY|>', 'consider', 'your daughters'), ('<|EMPTY|>', 'think', 'what establishment it be'), ('<|EMPTY|>', 'determine', 'Sir William'), ('<|EMPTY|>', 'determine', ('<|EMPTY|>', 'go', 'Sir William')), ('Lady Lucas', 'determine', ('<|EMPTY|>', 'go', 'Sir William')), ('Lady Lucas', 'go', '<|EMPTY|>'), ('you', 'know', '<|EMPTY|>'), ('they', 'visit', 'newcomers'), ('you', 'go', '<|EMPTY|>'), ('_us_', 'visit', 'him'), ('you', 'do', '<|EMPTY|>'), ('I', 'say', 'Mr. Bingley be very glad see you'), ('Mr. Bingley', 'see', 'you'), ('I', 'send', 'few lines by you'), ('I', 'assure', 'him'), ('he', 'choose', 'whichever'), ('I', 'throw in', 'good word for my little Lizzy'), ('I', 'desire', ('you', 'do', 'such thing')), ('I', 'handsome', '<|EMPTY|>'), ('half', 'good humoured', '<|EMPTY|>'), ('you', 'give', '_her_'), ('you', 'give', 'preference'), ('They', 'have', 'none of them'), ('They', 'have', ('They', 'much', '<|EMPTY|>')), ('They', 'recommend', 'them'), ('he', 'reply', 'They have none of them much recommend them'), ('he', 'reply', 'they are all silly like other girls'), ('they', 'ignorant', '<|EMPTY|>'), ('Lizzy', 'have', 'something more of quickness than her sisters'), ('you', 'Mr. Bennet abuse', 'your own children'), ('You', 'take', 'delight'), ('You', 'vex', 'me'), ('You', 'have', 'compassion on my poor nerves'), ('You', 'mistake', 'me')]\n"
     ]
    }
   ],
   "source": [
    "# Analyze using classla/stanza to get Document format\n",
    "data = en_pipeline(en_text)\n",
    "print(\"extracted named entities\".upper())\n",
    "print([\" \".join([y.text for y in x.tokens]) for x in data.entities])\n",
    "\n",
    "# Run named entity deduplication/resolution\n",
    "deduplication_mapper = deduplicate_named_entities(data)\n",
    "print(\"deduplication mapper\".upper())\n",
    "print(deduplication_mapper)\n",
    "\n",
    "e = Eventify(language=\"en\")\n",
    "# Extract SVO triplets / events\n",
    "events = e.eventify(en_text)\n",
    "print(\"SVO triplets / events\".upper())\n",
    "print(events)\n",
    "#TODO: Replace with coreferences and map with deduplication mapper"
   ]
  }
 ],
 "metadata": {
  "kernelspec": {
   "display_name": "Python 3",
   "language": "python",
   "name": "python3"
  },
  "language_info": {
   "codemirror_mode": {
    "name": "ipython",
    "version": 3
   },
   "file_extension": ".py",
   "mimetype": "text/x-python",
   "name": "python",
   "nbconvert_exporter": "python",
   "pygments_lexer": "ipython3",
   "version": "3.8.12"
  }
 },
 "nbformat": 4,
 "nbformat_minor": 1
}
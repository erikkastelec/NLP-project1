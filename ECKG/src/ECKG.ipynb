{
 "cells": [
  {
   "cell_type": "code",
   "execution_count": 14,
   "metadata": {
    "collapsed": true
   },
   "outputs": [],
   "source": [
    "from ECKG.src.baseline import BaselineController, MentionPairFeatures\n",
    "from contextual_model_bert import ContextualControllerBERT\n",
    "from data import read_classla, read_corpus\n",
    "from eventify import *\n",
    "from helper_functions import *\n",
    "\n",
    "import urllib.request\n",
    "\n",
    "sl_text  = \"Ljubljana - Evropska komisija je Sloveniji za letos napovedala 1,9 - odstotno rast , za naslednje leto pa 2,5 - odstotno , kar je nad povprečjem v območju evra in EU . Sicer pa bo Slovenija letos po napovedih iz Bruslja beležila 5,8 - odstotni javnofinančni primanjkljaj , naslednje leto pa petodstotnega , kar je slabše od povprečja v območju evra in EU . Javni dolg Slovenije se bo po napovedih komisije vztrajno večal , a bo še vedno bistveno pod povprečjem območja evra in EU ter bistveno pod referenčno mejo 60 odstotkov bruto domačega proizvoda ( BDP ) , ki jo določa pakt za stabilnost in rast . Za letos komisija Sloveniji napoveduje 42,8 - odstotni dolg , za prihodnje leto pa 46 - odstotnega . Poleg tega Evropska komisija Sloveniji za letos napoveduje 2,6 - odstotno inflacijo , za prihodnje leto pa 2,1 - odstotno . Inflacija v Sloveniji bo tako letos po napovedih komisije enaka kot v povprečju v območju evra in pod povprečjem EU , prihodnje leto pa nekoliko nad povprečjem v območju evra in celotne EU . Po napovedih iz Bruslja bo Slovenija letos beležila večjo brezposelnost kot lani . Medtem ko je bila ta lani po ocenah komisije 7,3 - odstotna , naj bi bila letos 8,2 - odstotna , prihodnje leto pa osemodstotna . To je še vedno manj kot v povprečju v območju evra in celotne EU , kjer naj bi bila letos 10 - odstotna , prihodnje leto pa 9,7 - odstotna oziroma 9,5 - odstotna in 9,1 - odstotna . V lanski novembrski gospodarski napovedi je komisija Sloveniji za letos prav tako napovedala 1,9 - odstotno rast , za leto 2012 pa 2,6 - odstotno , a njene napovedi za javnofinančni primanjkljaj Slovenije so bile novembra boljše kot danes . Novembra je namreč napovedala , da bo ta v Sloveniji letos 5,3 - odstoten , naslednje leto pa 4,7 - odstoten . Slovenija je sicer - kot velika večina držav EU - zaradi prekomernega javnofinančnega primanjkljaja v postopku Evropske komisije . Evropska komisija je kot rok za znižanje javnofinančnega primanjkljaja Slovenije pod tri odstotke BDP , kar kot zgornjo mejo določa pakt za stabilnost in rast , določila leto 2013 . Slovenija je po navedbah finančnega ministrstva v programu stabilnosti , ki ga je posredovala Evropski komisiji , zapisala , da za leto 2012 načrtuje znižanje primanjkljaja na 3,9 odstotka BDP . Na zvišanje letošnjega primanjkljaja bo sicer po navedbah komisije vplivala dokapitalizacija največje slovenske banke , Nove Ljubljanske banke . Glede primanjkljaja v letu 2012 je komisija zapisala , da je izračunan ob predpostavki , da ne bo dodatnih ukrepov . Glede nadaljnjih ukrepov za zajezitev izdatkov v letu 2012 sicer komisija ugotavlja , da ti v glavnem še niso podrobno opredeljeni in dogovorjeni . Glede gospodarske rasti pa Evropska komisija v primeru Slovenije ugotavlja razmeroma medlo okrevanje , ki temelji na izvozu . Ta pa je po njenih navedbah ohromljen zaradi izgub konkurenčnosti , ki so se nabrale pred in med krizo , ter zaradi usmerjenosti izvoza na gospodarsko šibek Zahodni Balkan . Drugi dejavnik , ki zavira gospodarsko rast Slovenije , so po navedbah Evropske komisije razmere v gradbeništvu . Poleg tega se je po navedbah komisije v prizadevanjih bank za izboljšanje svojih bilanc skrčil tudi tok posojil v realno gospodarstvo\"\n",
    "\n",
    "\n",
    "# Download text and decode\n",
    "# Note: Set proxy if behind a proxy (https://docs.python.org/2/library/urllib.html)\n",
    "url = \"http://www.gutenberg.org/files/1342/1342-0.txt\"\n",
    "en_text = urllib.request.urlopen(url).read().decode()\n",
    "en_text = \".\".join(en_text.split(\".\")[20:50])\n",
    "\n"
   ]
  },
  {
   "cell_type": "markdown",
   "source": [
    "## Slovene Coreference resolution"
   ],
   "metadata": {
    "collapsed": false
   }
  },
  {
   "cell_type": "code",
   "execution_count": 18,
   "outputs": [
    {
     "name": "stderr",
     "output_type": "stream",
     "text": [
      "INFO:root:Initialized baseline model with name baseline_model_senticoref\n",
      "INFO:root:Initialized baseline model with name baseline_model_senticoref\n",
      "Some weights of the model checkpoint at EMBEDDIA/crosloengual-bert were not used when initializing BertModel: ['cls.predictions.transform.dense.weight', 'cls.seq_relationship.bias', 'cls.predictions.decoder.weight', 'cls.seq_relationship.weight', 'cls.predictions.transform.dense.bias', 'cls.predictions.transform.LayerNorm.bias', 'cls.predictions.transform.LayerNorm.weight', 'cls.predictions.bias']\n",
      "- This IS expected if you are initializing BertModel from the checkpoint of a model trained on another task or with another architecture (e.g. initializing a BertForSequenceClassification model from a BertForPreTraining model).\n",
      "- This IS NOT expected if you are initializing BertModel from the checkpoint of a model that you expect to be exactly identical (initializing a BertForSequenceClassification model from a BertForSequenceClassification model).\n",
      "INFO:root:Initialized contextual BERT-based model with name fold7_0.\n"
     ]
    },
    {
     "name": "stdout",
     "output_type": "stream",
     "text": [
      "ORIGINAL CLUSTERS\n",
      "['Ljubljana']\n",
      "['Evropska komisija', 'komisije', 'komisija', 'Evropska komisija', 'komisije', 'komisije', 'komisija', 'njene', 'napovedala', 'Evropske komisije', 'Evropska komisija', 'Evropski komisiji', 'komisija', 'komisija', 'Evropska komisija', 'njenih', 'Evropske komisije', 'komisije']\n",
      "['Sloveniji', 'Slovenija', 'Slovenije', 'Sloveniji', 'Sloveniji', 'Sloveniji', 'Slovenija', 'Sloveniji', 'Slovenije', 'Sloveniji', 'Slovenija', 'Slovenije', 'Slovenija', 'posredovala', 'načrtuje', 'Slovenije', 'Slovenije']\n",
      "['EU', 'EU', 'EU', 'EU', 'EU', 'EU', 'EU']\n",
      "['Bruslja', 'Bruslja']\n",
      "['največje slovenske banke', 'Nove Ljubljanske banke']\n",
      "['Zahodni Balkan']\n",
      "PREDICTED CLUSTERS\n",
      "Sloveniji :\n",
      "['Slovenija', 'Slovenije', 'Slovenija']\n",
      "EU :\n",
      "['EU', 'EU']\n",
      "Evropska komisija :\n",
      "['komisije', 'komisija', 'Evropska komisija']\n",
      "Slovenija :\n",
      "['Sloveniji', 'Sloveniji']\n",
      "Sloveniji :\n",
      "['Sloveniji', 'Slovenija', 'Slovenije']\n",
      "komisije :\n",
      "['komisije', 'komisija', 'njenih']\n",
      "EU :\n",
      "['EU']\n",
      "EU :\n",
      "['EU', 'Evropske komisije']\n",
      "Bruslja :\n",
      "['Bruslja']\n",
      "komisije :\n",
      "['komisije', 'komisija']\n",
      "EU :\n",
      "['EU']\n",
      "komisije :\n",
      "['komisija', 'njene', 'komisije']\n",
      "Sloveniji :\n",
      "['Sloveniji', 'Slovenije']\n",
      "Slovenije :\n",
      "['Slovenije', 'Sloveniji']\n",
      "njene :\n",
      "['napovedala']\n",
      "Slovenija :\n",
      "['Slovenija', 'največje slovenske banke']\n",
      "EU :\n",
      "['EU']\n",
      "Evropske komisije :\n",
      "['Evropska komisija', 'Evropski komisiji', 'Evropska komisija', 'Evropske komisije']\n",
      "napovedala :\n",
      "['posredovala']\n",
      "Evropska komisija :\n",
      "['načrtuje']\n",
      "največje slovenske banke :\n",
      "['Nove Ljubljanske banke']\n",
      "Slovenije :\n",
      "['Slovenije']\n"
     ]
    }
   ],
   "source": [
    "model_name = \"baseline_model_senticoref\"\n",
    "learning_rate = 0.05\n",
    "dataset_name = \"senticoref\"\n",
    "# BASELINE\n",
    "model = BaselineController(MentionPairFeatures.num_features(),\n",
    "                           model_name=model_name,\n",
    "                           learning_rate=learning_rate,\n",
    "                           dataset_name=dataset_name\n",
    "                           )\n",
    "model = BaselineController.from_pretrained(\"baseline_model/baseline_model_senticoref\")\n",
    "\n",
    "# CONTEXTUAL BERT\n",
    "model = ContextualControllerBERT.from_pretrained(\"contextual_model_bert/fold7_0\")\n",
    "\n",
    "# read corpus\n",
    "documents = read_corpus(dataset_name)\n",
    "\n",
    "# test on first document\n",
    "eval_doc = model._train_doc(documents[0], eval_mode=True)\n",
    "print(\"ORIGINAL CLUSTERS\")\n",
    "for cluster in documents[0].clusters:\n",
    "    print([\" \".join([y.raw_text for y in documents[0].mentions[x].tokens]) for x in cluster])\n",
    "print(\"PREDICTED CLUSTERS\")\n",
    "for key, values in eval_doc[0].items():\n",
    "    if key is None:\n",
    "        key = \"None\"\n",
    "    try:\n",
    "        print(\" \".join([y.raw_text for y in documents[0].mentions[key].tokens]), \":\")\n",
    "        print([\" \".join([y.raw_text for y in documents[0].mentions[x].tokens]) for x in values])\n",
    "    except KeyError:\n",
    "        continue\n",
    "# Evaluation for conll format produced by classla\n",
    "#     classla.download('sl')\n",
    "#     pipeline = classla.Pipeline(\"sl\", processors='tokenize,ner, lemma, pos, depparse', use_gpu=True)\n",
    "#\n",
    "#     # Analyze using classla/stanza to get Document format\n",
    "#     data = pipeline(sl_text)\n",
    "#     # Convert to conll format\n",
    "#     data = data.to_conll()\n",
    "#     # Convert to format used by slovene-coreference-resolution library (https://github.com/matejklemen/slovene-coreference-resolution)\n",
    "#     # TODO: need to fix some mistakes when converting formats\n",
    "#     data = read_classla(data)\n",
    "    # res, _ = model._train_doc(data3, eval_mode=True)"
   ],
   "metadata": {
    "collapsed": false,
    "pycharm": {
     "name": "#%%\n"
    }
   }
  },
  {
   "cell_type": "markdown",
   "source": [
    "## NER + SVN triplet extraction"
   ],
   "metadata": {
    "collapsed": false
   }
  },
  {
   "cell_type": "markdown",
   "source": [
    "### Slovene"
   ],
   "metadata": {
    "collapsed": false
   }
  },
  {
   "cell_type": "code",
   "execution_count": 2,
   "outputs": [
    {
     "name": "stderr",
     "output_type": "stream",
     "text": [
      "Downloading https://raw.githubusercontent.com/clarinsi/classla-resources/main/resources_1.0.1.json: 10.3kB [00:00, 10.3MB/s]                   \n",
      "INFO:classla:Downloading these customized packages for language: sl (Slovenian)...\n",
      "========================\n",
      "| Processor | Package  |\n",
      "------------------------\n",
      "| tokenize  | standard |\n",
      "| pos       | standard |\n",
      "| lemma     | standard |\n",
      "| depparse  | standard |\n",
      "| ner       | standard |\n",
      "| pretrain  | standard |\n",
      "========================\n",
      "\n",
      "INFO:classla:File exists: /home/erikkastelec/classla_resources/sl/pos/standard.pt.\n",
      "INFO:classla:File exists: /home/erikkastelec/classla_resources/sl/lemma/standard.pt.\n",
      "INFO:classla:File exists: /home/erikkastelec/classla_resources/sl/depparse/standard.pt.\n",
      "INFO:classla:File exists: /home/erikkastelec/classla_resources/sl/ner/standard.pt.\n",
      "INFO:classla:File exists: /home/erikkastelec/classla_resources/sl/pretrain/standard.pt.\n",
      "INFO:classla:Finished downloading models and saved to /home/erikkastelec/classla_resources.\n",
      "INFO:classla:Loading these models for language: sl (Slovenian):\n",
      "========================\n",
      "| Processor | Package  |\n",
      "------------------------\n",
      "| tokenize  | standard |\n",
      "| pos       | standard |\n",
      "| lemma     | standard |\n",
      "| depparse  | standard |\n",
      "| ner       | standard |\n",
      "========================\n",
      "\n",
      "INFO:classla:Use device: gpu\n",
      "INFO:classla:Loading: tokenize\n",
      "INFO:classla:Loading: pos\n",
      "INFO:classla:Loading: lemma\n",
      "INFO:classla:Loading: depparse\n",
      "INFO:classla:Loading: ner\n",
      "INFO:classla:Done loading processors!\n"
     ]
    }
   ],
   "source": [
    "# Initialize Slovene classla pipeline\n",
    "classla.download('sl')\n",
    "sl_pipeline = classla.Pipeline(\"sl\", processors='tokenize,ner, lemma, pos, depparse', use_gpu=True)"
   ],
   "metadata": {
    "collapsed": false,
    "pycharm": {
     "name": "#%%\n"
    }
   }
  },
  {
   "cell_type": "code",
   "execution_count": 4,
   "outputs": [
    {
     "name": "stdout",
     "output_type": "stream",
     "text": [
      "EXTRACTED NAMED ENTITIES\n",
      "['Ljubljana', 'Evropska komisija', 'Sloveniji', 'EU', 'Slovenija', 'Bruslja', 'EU', 'Slovenije', 'EU', 'Sloveniji', 'Evropska komisija Sloveniji', 'Sloveniji', 'EU', 'EU', 'Bruslja', 'Slovenija', 'EU', 'Sloveniji', 'Slovenije', 'Sloveniji', 'Slovenija', 'EU', 'Evropske komisije', 'Evropska komisija', 'Slovenije', 'Slovenija', 'Evropski komisiji', 'Nove Ljubljanske banke', 'Evropska komisija', 'Slovenije', 'Zahodni Balkan', 'Slovenije', 'Evropske komisije razmere']\n",
      "DEDUPLICATION MAPPER\n",
      "{'Ljubljana': 'Ljubljana', 'Evropska komisija': 'Evropska komisija', 'Evropska komisija Sloveniji': 'Evropska komisija', 'Evropske komisije': 'Evropska komisija', 'Evropski komisiji': 'Evropska komisija', 'Evropske komisije razmere': 'Evropska komisija', 'Sloveniji': 'Sloveniji', 'Slovenija': 'Sloveniji', 'Slovenije': 'Sloveniji', 'EU': 'EU', 'Bruslja': 'Bruslja', 'Nove Ljubljanske banke': 'Nove Ljubljanske banke', 'Zahodni Balkan': 'Zahodni Balkan'}\n",
      "SVO TRIPLETS / EVENTS\n",
      "[('Evropska komisija', 'napovedati', 'Sloveniji'), ('Evropska komisija', 'napovedati', '1,9 odstotno rast'), ('kar', 'biti', '<|EMPTY|>'), ('Slovenija', 'beležiti', '5,8 odstotni javnofinančni primanjkljaj naslednje leto pa petodstotnega kar je slabše od povprečja v območju evra in EU'), ('Javni dolg Slovenije', 'se večati', '<|EMPTY|>'), ('Javni dolg Slovenije', 'biti', '<|EMPTY|>'), ('pakt za stabilnost in rast', 'določati', 'jo'), ('komisija', 'napovedovati', 'Sloveniji'), ('42,8 odstotni', 'napovedovati', 'Sloveniji'), ('komisija', 'napovedovati', 'Sloveniji'), ('komisija', 'napovedovati', 'dolg'), ('komisija', 'napovedovati', 'Sloveniji'), ('za prihodnje leto pa 46 odstotnega', 'napovedovati', 'Sloveniji'), ('Evropska komisija', 'napovedovati', 'Sloveniji'), ('Evropska komisija', 'napovedovati', '2,6 odstotno inflacijo za prihodnje leto pa 2,1 odstotno'), ('Slovenija', 'beležiti', 'večjo brezposelnost kot lani'), ('To', 'biti', '<|EMPTY|>'), ('To', '9,7 odstoten', '<|EMPTY|>'), ('To', '9,5 odstoten', '<|EMPTY|>'), ('To', '9,1 odstoten', '<|EMPTY|>'), ('komisija Sloveniji', 'napovedati', '1,9 odstotno rast'), ('<|EMPTY|>', 'napovedati', 'bo ta v Sloveniji letos 5,3 odstoten'), ('Slovenija', 'biti', '<|EMPTY|>'), ('Evropska komisija kot rok za znižanje javnofinančnega primanjkljaja Slovenije pod tri odstotke BDP', 'biti', '<|EMPTY|>'), ('kar', 'določati', '<|EMPTY|>'), ('pakt za stabilnost in rast določila leto 2013', 'določati', '<|EMPTY|>'), ('<|EMPTY|>', 'posredovati', 'ga'), ('<|EMPTY|>', 'posredovati', 'Evropski komisiji'), ('Slovenija', 'zapisati', ('Slovenija', 'načrtovati', 'znižanje primanjkljaja na 3,9 odstotka BDP')), ('dokapitalizacija največje slovenske banke Nove Ljubljanske banke', 'vplivati', '<|EMPTY|>'), ('komisija', 'zapisati', 'je izračunan ob predpostavki ne bo dodatnih ukrepov'), ('dodatnih ukrepov', 'biti', '<|EMPTY|>'), ('komisija', 'ugotavljati', 'ti v glavnem še niso podrobno opredeljeni'), ('ti', 'dogovorjen', '<|EMPTY|>'), ('Evropska komisija', 'ugotavljati', 'razmeroma medlo okrevanje temelji na izvozu'), ('<|EMPTY|>', 'zavirati', 'gospodarsko rast Slovenije'), ('Drugi dejavnik zavira gospodarsko rast Slovenije', 'biti', '<|EMPTY|>'), ('razmere v gradbeništvu', 'biti', '<|EMPTY|>'), ('tok posojil v realno gospodarstvo', 'se skrčiti', '<|EMPTY|>')]\n"
     ]
    }
   ],
   "source": [
    "# Analyze using classla/stanza to get Document format\n",
    "data = sl_pipeline(sl_text)\n",
    "print(\"extracted named entities\".upper())\n",
    "print([\" \".join([y.text for y in x.tokens]) for x in data.entities])\n",
    "\n",
    "# Run named entity deduplication/resolution\n",
    "deduplication_mapper = deduplicate_named_entities(data)\n",
    "print(\"deduplication mapper\".upper())\n",
    "print(deduplication_mapper)\n",
    "\n",
    "# SVO triplet / event extraction\n",
    "e = Eventify(language=\"sl\")\n",
    "# Extract SVO triplets / events\n",
    "events = e.eventify(sl_text)\n",
    "print(\"SVO triplets / events\".upper())\n",
    "print(events)\n",
    "#TODO: Replace with coreferences and map with deduplication mapper"
   ],
   "metadata": {
    "collapsed": false,
    "pycharm": {
     "name": "#%%\n"
    }
   }
  },
  {
   "cell_type": "markdown",
   "source": [
    "### English"
   ],
   "metadata": {
    "collapsed": false,
    "pycharm": {
     "name": "#%% md\n"
    }
   }
  },
  {
   "cell_type": "code",
   "execution_count": 5,
   "outputs": [
    {
     "data": {
      "text/plain": "Downloading https://raw.githubusercontent.com/stanfordnlp/stanza-resources/main/resources_1.4.0.json:   0%|   …",
      "application/vnd.jupyter.widget-view+json": {
       "version_major": 2,
       "version_minor": 0,
       "model_id": "fb7c279403d649e5ac28ac55fdc10bdf"
      }
     },
     "metadata": {},
     "output_type": "display_data"
    },
    {
     "name": "stderr",
     "output_type": "stream",
     "text": [
      "INFO:stanza:Downloading default packages for language: en (English)...\n",
      "INFO:stanza:File exists: /home/erikkastelec/stanza_resources/en/default.zip\n",
      "INFO:stanza:Finished downloading models and saved to /home/erikkastelec/stanza_resources.\n"
     ]
    },
    {
     "data": {
      "text/plain": "Downloading https://raw.githubusercontent.com/stanfordnlp/stanza-resources/main/resources_1.4.0.json:   0%|   …",
      "application/vnd.jupyter.widget-view+json": {
       "version_major": 2,
       "version_minor": 0,
       "model_id": "c6745ffd56104e26a9565880e0ccf758"
      }
     },
     "metadata": {},
     "output_type": "display_data"
    },
    {
     "name": "stderr",
     "output_type": "stream",
     "text": [
      "INFO:stanza:Loading these models for language: en (English):\n",
      "=========================\n",
      "| Processor | Package   |\n",
      "-------------------------\n",
      "| tokenize  | combined  |\n",
      "| pos       | combined  |\n",
      "| lemma     | combined  |\n",
      "| depparse  | combined  |\n",
      "| ner       | ontonotes |\n",
      "=========================\n",
      "\n",
      "INFO:stanza:Use device: gpu\n",
      "INFO:stanza:Loading: tokenize\n",
      "INFO:stanza:Loading: pos\n",
      "INFO:stanza:Loading: lemma\n",
      "INFO:stanza:Loading: depparse\n",
      "INFO:stanza:Loading: ner\n",
      "INFO:stanza:Done loading processors!\n"
     ]
    }
   ],
   "source": [
    "# Initialize English stanza pipeline\n",
    "stanza.download(\"en\")\n",
    "en_pipeline = stanza.Pipeline(\"en\", processors='tokenize,ner, lemma, pos, depparse', use_gpu=True)"
   ],
   "metadata": {
    "collapsed": false,
    "pycharm": {
     "name": "#%%\n"
    }
   }
  },
  {
   "cell_type": "code",
   "execution_count": 15,
   "outputs": [
    {
     "name": "stdout",
     "output_type": "stream",
     "text": [
      "EXTRACTED NAMED ENTITIES\n",
      "['Bingley', 'four or five thousand', 'Bennet', 'one', 'one', 'Bingley', 'five', 'Bingley', 'one', 'William', 'Lady Lucas', 'Bingley', 'Lizzy', 'Lizzy', 'Jane', 'Lydia', 'Lizzy', 'Bennet']\n",
      "DEDUPLICATION MAPPER\n",
      "{'Bingley': 'Bingley', 'four or five thousand': 'four or five thousand', 'Bennet': 'Bennet', 'one': 'one', 'five': 'five', 'William': 'William', 'Lady Lucas': 'Lady Lucas', 'Lizzy': 'Lizzy', 'Jane': 'Jane', 'Lydia': 'Lydia'}\n",
      "SVO TRIPLETS / EVENTS\n",
      "[('he', 'single', '<|EMPTY|>'), ('it', 'affect', 'them'), ('his wife', 'dear Mr. Bennet', '<|EMPTY|>'), ('his wife', 'reply', 'My dear Mr. Bennet'), ('his wife', 'reply', 'how you be so tiresome'), ('You', 'know', ('I', 'think', '<|EMPTY|>')), ('you', 'nonsense talk', '<|EMPTY|>'), ('he', 'fall', '<|EMPTY|>'), ('you', 'visit', 'him'), ('you', '', '<|EMPTY|>'), ('he', 'come', '<|EMPTY|>'), ('I', 'see', 'occasion for that'), ('You', 'go', '<|EMPTY|>'), ('girls', 'go', '<|EMPTY|>'), ('you', 'send', 'them'), ('Mr. Bingley', 'like', 'you'), ('you', 'my flatter', 'me'), ('I', 'have', 'my share of beauty'), ('I', 'pretend', '<|EMPTY|>'), ('woman', 'have', 'five grown up daughters'), ('she', 'ought', ('she', 'give over', 'thinking of her own beauty')), ('woman', 'have', 'not often much beauty think of'), ('you', 'go', '<|EMPTY|>'), ('you', 'see', 'Mr. Bingley'), ('he', 'come', '<|EMPTY|>'), ('I', 'engage', '<|EMPTY|>'), ('I', 'assure', 'It is more I engage for'), ('I', 'assure', 'you'), ('<|EMPTY|>', 'consider', 'your daughters'), ('<|EMPTY|>', 'think', 'what establishment it be'), ('<|EMPTY|>', 'determine', 'Sir William'), ('<|EMPTY|>', 'determine', ('<|EMPTY|>', 'go', 'Sir William')), ('Lady Lucas', 'determine', ('<|EMPTY|>', 'go', 'Sir William')), ('Lady Lucas', 'go', '<|EMPTY|>'), ('you', 'know', '<|EMPTY|>'), ('they', 'visit', 'newcomers'), ('you', 'go', '<|EMPTY|>'), ('_us_', 'visit', 'him'), ('you', 'do', '<|EMPTY|>'), ('I', 'say', 'Mr. Bingley be very glad see you'), ('Mr. Bingley', 'see', 'you'), ('I', 'send', 'few lines by you'), ('I', 'assure', 'him'), ('he', 'choose', 'whichever'), ('I', 'throw in', 'good word for my little Lizzy'), ('I', 'desire', ('you', 'do', 'such thing')), ('I', 'handsome', '<|EMPTY|>'), ('half', 'good humoured', '<|EMPTY|>'), ('you', 'give', '_her_'), ('you', 'give', 'preference'), ('They', 'have', 'none of them'), ('They', 'have', ('They', 'much', '<|EMPTY|>')), ('They', 'recommend', 'them'), ('he', 'reply', 'They have none of them much recommend them'), ('he', 'reply', 'they are all silly like other girls'), ('they', 'ignorant', '<|EMPTY|>'), ('Lizzy', 'have', 'something more of quickness than her sisters'), ('you', 'Mr. Bennet abuse', 'your own children'), ('You', 'take', 'delight'), ('You', 'vex', 'me'), ('You', 'have', 'compassion on my poor nerves'), ('You', 'mistake', 'me')]\n"
     ]
    }
   ],
   "source": [
    "# Analyze using classla/stanza to get Document format\n",
    "data = en_pipeline(en_text)\n",
    "print(\"extracted named entities\".upper())\n",
    "print([\" \".join([y.text for y in x.tokens]) for x in data.entities])\n",
    "\n",
    "# Run named entity deduplication/resolution\n",
    "deduplication_mapper = deduplicate_named_entities(data)\n",
    "print(\"deduplication mapper\".upper())\n",
    "print(deduplication_mapper)\n",
    "\n",
    "e = Eventify(language=\"en\")\n",
    "# Extract SVO triplets / events\n",
    "events = e.eventify(en_text)\n",
    "print(\"SVO triplets / events\".upper())\n",
    "print(events)\n",
    "#TODO: Replace with coreferences and map with deduplication mapper"
   ],
   "metadata": {
    "collapsed": false,
    "pycharm": {
     "name": "#%%\n"
    }
   }
  }
 ],
 "metadata": {
  "kernelspec": {
   "display_name": "Python 3",
   "language": "python",
   "name": "python3"
  },
  "language_info": {
   "codemirror_mode": {
    "name": "ipython",
    "version": 2
   },
   "file_extension": ".py",
   "mimetype": "text/x-python",
   "name": "python",
   "nbconvert_exporter": "python",
   "pygments_lexer": "ipython2",
   "version": "2.7.6"
  }
 },
 "nbformat": 4,
 "nbformat_minor": 0
}
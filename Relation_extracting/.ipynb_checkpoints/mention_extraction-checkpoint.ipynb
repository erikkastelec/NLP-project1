{
 "cells": [
  {
   "cell_type": "code",
   "execution_count": 1,
   "id": "e0078296",
   "metadata": {},
   "outputs": [
    {
     "name": "stdout",
     "output_type": "stream",
     "text": [
      "[('Victoria', 'NNP'), ('Chen', 'NNP'), (',', ','), ('CFO', 'NNP'), ('of', 'IN'), ('Megabucks', 'NNP'), ('Banking', 'NNP'), (',', ','), ('saw', 'VBD'), ('her', 'PRP'), ('pay', 'VB'), ('jump', 'NN'), ('to', 'TO'), ('$', '$'), ('2.3', 'CD'), ('million', 'CD'), (',', ','), ('as', 'IN'), ('the', 'DT'), ('38-year-old', 'JJ'), ('also', 'RB'), ('became', 'VBD'), ('the', 'DT'), ('company', 'NN'), ('’', 'NNP'), ('s', 'NN'), ('president', 'NN'), ('.', '.')]\n",
      "['her']\n",
      "\n",
      "\n",
      "[('It', 'PRP'), ('is', 'VBZ'), ('widely', 'RB'), ('known', 'VBN'), ('that', 'IN'), ('she', 'PRP'), ('came', 'VBD'), ('to', 'TO'), ('Megabucks', 'NNS'), ('from', 'IN'), ('rival', 'JJ'), ('Lotsabucks', 'NNP'), ('.', '.')]\n",
      "['It', 'she']\n",
      "\n",
      "\n"
     ]
    },
    {
     "name": "stderr",
     "output_type": "stream",
     "text": [
      "[nltk_data] Downloading package punkt to\n",
      "[nltk_data]     C:\\Users\\matic\\AppData\\Roaming\\nltk_data...\n",
      "[nltk_data]   Package punkt is already up-to-date!\n",
      "[nltk_data] Downloading package averaged_perceptron_tagger to\n",
      "[nltk_data]     C:\\Users\\matic\\AppData\\Roaming\\nltk_data...\n",
      "[nltk_data]   Package averaged_perceptron_tagger is already up-to-\n",
      "[nltk_data]       date!\n"
     ]
    },
    {
     "data": {
      "text/plain": [
       "[['Victoria Chen',\n",
       "  'Megabucks Banking',\n",
       "  'pay jump',\n",
       "  'company ’ s president',\n",
       "  'her',\n",
       "  'CFO'],\n",
       " ['It', 'she', 'Megabucks', 'Lotsabucks']]"
      ]
     },
     "execution_count": 1,
     "metadata": {},
     "output_type": "execute_result"
    }
   ],
   "source": [
    "from mention_extraction import MentionDetector\n",
    "\n",
    "\n",
    "extractor = MentionDetector()\n",
    "\n",
    "text_en = 'Victoria Chen, CFO of Megabucks Banking, saw her pay jump to $2.3 million, as the 38-year-old also became the company’s president. It is widely known that she came to Megabucks from rival Lotsabucks.'\n",
    "text_slo = 'Metka Zahovič je šla v Mercator po njene kosmiče ter ona je mrtva.'\n",
    "\n",
    "mentions = extractor.get_mentions(text_slo, 'slovenian')\n",
    "mentions"
   ]
  },
  {
   "cell_type": "code",
   "execution_count": 2,
   "id": "8f23a273",
   "metadata": {},
   "outputs": [
    {
     "name": "stdout",
     "output_type": "stream",
     "text": [
      "(S\n",
      "  (NP Victoria/NNP Chen/NNP)\n",
      "  ,/,\n",
      "  CFO/NNP\n",
      "  of/IN\n",
      "  (NP Megabucks/NNP Banking/NNP)\n",
      "  ,/,\n",
      "  saw/VBD\n",
      "  her/PRP\n",
      "  (NP pay/VB jump/NN)\n",
      "  to/TO\n",
      "  $/$\n",
      "  2.3/CD\n",
      "  million/CD\n",
      "  ,/,\n",
      "  as/IN\n",
      "  the/DT\n",
      "  38-year-old/JJ\n",
      "  also/RB\n",
      "  became/VBD\n",
      "  the/DT\n",
      "  (NP company/NN ’/NNP s/NN president/NN)\n",
      "  ./.\n",
      "  It/PRP\n",
      "  is/VBZ\n",
      "  widely/RB\n",
      "  known/VBN\n",
      "  that/IN\n",
      "  she/PRP\n",
      "  came/VBD\n",
      "  to/TO\n",
      "  Megabucks/NNS\n",
      "  from/IN\n",
      "  rival/JJ\n",
      "  Lotsabucks/NNP\n",
      "  ./.)\n"
     ]
    },
    {
     "name": "stderr",
     "output_type": "stream",
     "text": [
      "[nltk_data] Downloading package punkt to\n",
      "[nltk_data]     C:\\Users\\matic\\AppData\\Roaming\\nltk_data...\n",
      "[nltk_data]   Package punkt is already up-to-date!\n",
      "[nltk_data] Downloading package averaged_perceptron_tagger to\n",
      "[nltk_data]     C:\\Users\\matic\\AppData\\Roaming\\nltk_data...\n",
      "[nltk_data]   Package averaged_perceptron_tagger is already up-to-\n",
      "[nltk_data]       date!\n"
     ]
    },
    {
     "data": {
      "text/plain": [
       "['Victoria Chen', 'Megabucks Banking', 'pay jump', 'company ’ s president']"
      ]
     },
     "execution_count": 2,
     "metadata": {},
     "output_type": "execute_result"
    }
   ],
   "source": [
    "import nltk\n",
    "from nltk import word_tokenize, pos_tag, ne_chunk\n",
    "from nltk import RegexpParser\n",
    "from nltk import Tree\n",
    "import pandas as pd\n",
    "nltk.download('punkt')\n",
    "nltk.download('averaged_perceptron_tagger')\n",
    "\n",
    "\n",
    "# Defining a grammar & Parser\n",
    "NP = \"NP: {(<V\\w+>|<NN\\w?>)+.*<NN\\w?>}\"\n",
    "chunker = RegexpParser(NP)\n",
    "\n",
    "def get_continuous_chunks(text, chunk_func=ne_chunk):\n",
    "    chunked = chunk_func(pos_tag(word_tokenize(text)))\n",
    "    print(chunked)\n",
    "    continuous_chunk = []\n",
    "    current_chunk = []\n",
    "\n",
    "    for subtree in chunked:\n",
    "        if type(subtree) == Tree:\n",
    "            current_chunk.append(\" \".join([token for token, pos in subtree.leaves()]))\n",
    "        elif current_chunk:\n",
    "            named_entity = \" \".join(current_chunk)\n",
    "            if named_entity not in continuous_chunk:\n",
    "                continuous_chunk.append(named_entity)\n",
    "                current_chunk = []\n",
    "        else:\n",
    "            continue\n",
    "\n",
    "    return continuous_chunk\n",
    "\n",
    "get_continuous_chunks('Victoria Chen, CFO of Megabucks Banking, saw her pay jump to $2.3 million, as the 38-year-old also became the company’s president. It is widely known that she came to Megabucks from rival Lotsabucks.', chunker.parse)"
   ]
  },
  {
   "cell_type": "code",
   "execution_count": null,
   "id": "33edcb28",
   "metadata": {},
   "outputs": [],
   "source": []
  }
 ],
 "metadata": {
  "kernelspec": {
   "display_name": "Python 3 (ipykernel)",
   "language": "python",
   "name": "python3"
  },
  "language_info": {
   "codemirror_mode": {
    "name": "ipython",
    "version": 3
   },
   "file_extension": ".py",
   "mimetype": "text/x-python",
   "name": "python",
   "nbconvert_exporter": "python",
   "pygments_lexer": "ipython3",
   "version": "3.7.9"
  }
 },
 "nbformat": 4,
 "nbformat_minor": 5
}

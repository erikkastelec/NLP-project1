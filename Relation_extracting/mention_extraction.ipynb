{
 "cells": [
  {
   "cell_type": "code",
   "execution_count": 2,
   "id": "e0078296",
   "metadata": {},
   "outputs": [
    {
     "name": "stderr",
     "output_type": "stream",
     "text": [
      "Downloading https://raw.githubusercontent.com/clarinsi/classla-resources/main/resources_1.0.1.json: 10.3kB [00:00, ?B/s]\n",
      "2022-05-22 16:42:06 INFO: Downloading these customized packages for language: sl (Slovenian)...\n",
      "========================\n",
      "| Processor | Package  |\n",
      "------------------------\n",
      "| tokenize  | standard |\n",
      "| pos       | standard |\n",
      "| lemma     | standard |\n",
      "| depparse  | standard |\n",
      "| ner       | standard |\n",
      "| pretrain  | standard |\n",
      "========================\n",
      "\n",
      "2022-05-22 16:42:07 INFO: File exists: C:\\Users\\matic\\classla_resources\\sl\\pos\\standard.pt.\n",
      "2022-05-22 16:42:07 INFO: File exists: C:\\Users\\matic\\classla_resources\\sl\\lemma\\standard.pt.\n",
      "2022-05-22 16:42:07 INFO: File exists: C:\\Users\\matic\\classla_resources\\sl\\depparse\\standard.pt.\n",
      "2022-05-22 16:42:07 INFO: File exists: C:\\Users\\matic\\classla_resources\\sl\\ner\\standard.pt.\n",
      "2022-05-22 16:42:08 INFO: File exists: C:\\Users\\matic\\classla_resources\\sl\\pretrain\\standard.pt.\n",
      "2022-05-22 16:42:08 INFO: Finished downloading models and saved to C:\\Users\\matic\\classla_resources.\n",
      "[nltk_data] Downloading package punkt to\n",
      "[nltk_data]     C:\\Users\\matic\\AppData\\Roaming\\nltk_data...\n"
     ]
    },
    {
     "name": "stdout",
     "output_type": "stream",
     "text": [
      "[('Victoria', 'NNP'), ('Chen', 'NNP'), (',', ','), ('CFO', 'NNP'), ('of', 'IN'), ('Megabucks', 'NNP'), ('Banking', 'NNP'), (',', ','), ('saw', 'VBD'), ('her', 'PRP'), ('pay', 'VB'), ('jump', 'NN'), ('to', 'TO'), ('$', '$'), ('2.3', 'CD'), ('million', 'CD'), (',', ','), ('as', 'IN'), ('the', 'DT'), ('38-year-old', 'JJ'), ('also', 'RB'), ('became', 'VBD'), ('the', 'DT'), ('company', 'NN'), ('’', 'NNP'), ('s', 'NN'), ('president', 'NN'), ('.', '.')]\n",
      "['her']\n",
      "\n",
      "\n",
      "[('It', 'PRP'), ('is', 'VBZ'), ('widely', 'RB'), ('known', 'VBN'), ('that', 'IN'), ('she', 'PRP'), ('came', 'VBD'), ('to', 'TO'), ('Megabucks', 'NNS'), ('from', 'IN'), ('rival', 'JJ'), ('Lotsabucks', 'NNP'), ('.', '.')]\n",
      "['It', 'she']\n",
      "\n",
      "\n"
     ]
    },
    {
     "name": "stderr",
     "output_type": "stream",
     "text": [
      "[nltk_data]   Package punkt is already up-to-date!\n",
      "[nltk_data] Downloading package averaged_perceptron_tagger to\n",
      "[nltk_data]     C:\\Users\\matic\\AppData\\Roaming\\nltk_data...\n",
      "[nltk_data]   Package averaged_perceptron_tagger is already up-to-\n",
      "[nltk_data]       date!\n"
     ]
    },
    {
     "data": {
      "text/plain": [
       "[['Victoria Chen',\n",
       "  'Megabucks Banking',\n",
       "  'pay jump',\n",
       "  'company ’ s president',\n",
       "  'her',\n",
       "  'CFO'],\n",
       " ['It', 'she', 'Megabucks', 'Lotsabucks']]"
      ]
     },
     "execution_count": 2,
     "metadata": {},
     "output_type": "execute_result"
    }
   ],
   "source": [
    "from mention_extraction import MentionDetector\n",
    "\n",
    "\n",
    "extractor = MentionDetector()\n",
    "\n",
    "text_en = 'Victoria Chen, CFO of Megabucks Banking, saw her pay jump to $2.3 million, as the 38-year-old also became the company’s president. It is widely known that she came to Megabucks from rival Lotsabucks.'\n",
    "\n",
    "mentions = extractor.get_mentions(text_en, 'english')\n",
    "mentions"
   ]
  },
  {
   "cell_type": "code",
   "execution_count": 3,
   "id": "c635ebfc",
   "metadata": {},
   "outputs": [
    {
     "name": "stderr",
     "output_type": "stream",
     "text": [
      "2022-05-22 16:42:08 INFO: Loading these models for language: sl (Slovenian):\n",
      "========================\n",
      "| Processor | Package  |\n",
      "------------------------\n",
      "| tokenize  | standard |\n",
      "| pos       | standard |\n",
      "| lemma     | standard |\n",
      "| depparse  | standard |\n",
      "| ner       | standard |\n",
      "========================\n",
      "\n",
      "2022-05-22 16:42:08 INFO: Use device: cpu\n",
      "2022-05-22 16:42:08 INFO: Loading: tokenize\n",
      "2022-05-22 16:42:08 INFO: Loading: pos\n",
      "2022-05-22 16:42:17 INFO: Loading: lemma\n",
      "2022-05-22 16:42:28 INFO: Loading: depparse\n",
      "2022-05-22 16:42:29 INFO: Loading: ner\n",
      "2022-05-22 16:42:29 INFO: Done loading processors!\n"
     ]
    },
    {
     "ename": "TypeError",
     "evalue": "'Document' object is not iterable",
     "output_type": "error",
     "traceback": [
      "\u001b[1;31m---------------------------------------------------------------------------\u001b[0m",
      "\u001b[1;31mTypeError\u001b[0m                                 Traceback (most recent call last)",
      "\u001b[1;32m~\\AppData\\Local\\Temp/ipykernel_21184/509030095.py\u001b[0m in \u001b[0;36m<module>\u001b[1;34m\u001b[0m\n\u001b[0;32m      1\u001b[0m \u001b[0mtext_slo\u001b[0m \u001b[1;33m=\u001b[0m \u001b[1;34m'Metka Zahovič je šla v Mercator po njene kosmiče ter ona je mrtva.'\u001b[0m\u001b[1;33m\u001b[0m\u001b[1;33m\u001b[0m\u001b[0m\n\u001b[0;32m      2\u001b[0m \u001b[1;33m\u001b[0m\u001b[0m\n\u001b[1;32m----> 3\u001b[1;33m \u001b[0mmentions\u001b[0m \u001b[1;33m=\u001b[0m \u001b[0mextractor\u001b[0m\u001b[1;33m.\u001b[0m\u001b[0mget_mentions\u001b[0m\u001b[1;33m(\u001b[0m\u001b[0mtext_slo\u001b[0m\u001b[1;33m,\u001b[0m \u001b[1;34m'slovenian'\u001b[0m\u001b[1;33m)\u001b[0m\u001b[1;33m\u001b[0m\u001b[1;33m\u001b[0m\u001b[0m\n\u001b[0m\u001b[0;32m      4\u001b[0m \u001b[0mmentions\u001b[0m\u001b[1;33m\u001b[0m\u001b[1;33m\u001b[0m\u001b[0m\n",
      "\u001b[1;32mE:\\FRI\\mag\\NLP\\NLP-project1\\Relation_extracting\\mention_extraction.py\u001b[0m in \u001b[0;36mget_mentions\u001b[1;34m(self, text, lang)\u001b[0m\n\u001b[0;32m    120\u001b[0m \u001b[1;33m\u001b[0m\u001b[0m\n\u001b[0;32m    121\u001b[0m         \u001b[1;32melif\u001b[0m \u001b[0mlang\u001b[0m \u001b[1;33m==\u001b[0m \u001b[1;34m'slovenian'\u001b[0m\u001b[1;33m:\u001b[0m\u001b[1;33m\u001b[0m\u001b[1;33m\u001b[0m\u001b[0m\n\u001b[1;32m--> 122\u001b[1;33m             \u001b[0mself\u001b[0m\u001b[1;33m.\u001b[0m\u001b[0mparse_slo\u001b[0m\u001b[1;33m(\u001b[0m\u001b[0mtext\u001b[0m\u001b[1;33m)\u001b[0m\u001b[1;33m\u001b[0m\u001b[1;33m\u001b[0m\u001b[0m\n\u001b[0m\u001b[0;32m    123\u001b[0m             \u001b[1;31m#raise NotImplementedError\u001b[0m\u001b[1;33m\u001b[0m\u001b[1;33m\u001b[0m\u001b[1;33m\u001b[0m\u001b[0m\n\u001b[0;32m    124\u001b[0m \u001b[1;33m\u001b[0m\u001b[0m\n",
      "\u001b[1;32mE:\\FRI\\mag\\NLP\\NLP-project1\\Relation_extracting\\mention_extraction.py\u001b[0m in \u001b[0;36mparse_slo\u001b[1;34m(self, text)\u001b[0m\n\u001b[0;32m    127\u001b[0m         \u001b[0msl_pipeline\u001b[0m \u001b[1;33m=\u001b[0m \u001b[0mclassla\u001b[0m\u001b[1;33m.\u001b[0m\u001b[0mPipeline\u001b[0m\u001b[1;33m(\u001b[0m\u001b[1;34m\"sl\"\u001b[0m\u001b[1;33m,\u001b[0m \u001b[0mprocessors\u001b[0m\u001b[1;33m=\u001b[0m\u001b[1;34m'tokenize,ner, lemma, pos, depparse'\u001b[0m\u001b[1;33m)\u001b[0m\u001b[1;33m\u001b[0m\u001b[1;33m\u001b[0m\u001b[0m\n\u001b[0;32m    128\u001b[0m         \u001b[0mdoc\u001b[0m \u001b[1;33m=\u001b[0m \u001b[0msl_pipeline\u001b[0m\u001b[1;33m(\u001b[0m\u001b[0mtext\u001b[0m\u001b[1;33m)\u001b[0m\u001b[1;33m\u001b[0m\u001b[1;33m\u001b[0m\u001b[0m\n\u001b[1;32m--> 129\u001b[1;33m         \u001b[0mtags\u001b[0m \u001b[1;33m=\u001b[0m \u001b[1;33m[\u001b[0m\u001b[1;33m(\u001b[0m\u001b[0mtoken\u001b[0m\u001b[1;33m.\u001b[0m\u001b[0mtext\u001b[0m\u001b[1;33m,\u001b[0m \u001b[0mtoken\u001b[0m\u001b[1;33m.\u001b[0m\u001b[0mpos_\u001b[0m\u001b[1;33m)\u001b[0m \u001b[1;32mfor\u001b[0m \u001b[0mtoken\u001b[0m \u001b[1;32min\u001b[0m \u001b[0mdoc\u001b[0m\u001b[1;33m]\u001b[0m\u001b[1;33m\u001b[0m\u001b[1;33m\u001b[0m\u001b[0m\n\u001b[0m\u001b[0;32m    130\u001b[0m         \u001b[0mm\u001b[0m \u001b[1;33m=\u001b[0m \u001b[0mget_continuous_chunks2\u001b[0m\u001b[1;33m(\u001b[0m\u001b[1;33m)\u001b[0m\u001b[1;33m\u001b[0m\u001b[1;33m\u001b[0m\u001b[0m\n\u001b[0;32m    131\u001b[0m         \u001b[0mprint\u001b[0m\u001b[1;33m(\u001b[0m\u001b[0md\u001b[0m\u001b[1;33m.\u001b[0m\u001b[0mto_conll\u001b[0m\u001b[1;33m(\u001b[0m\u001b[1;33m)\u001b[0m\u001b[1;33m)\u001b[0m\u001b[1;33m\u001b[0m\u001b[1;33m\u001b[0m\u001b[0m\n",
      "\u001b[1;31mTypeError\u001b[0m: 'Document' object is not iterable"
     ]
    }
   ],
   "source": [
    "text_slo = 'Metka Zahovič je šla v Mercator po njene kosmiče ter ona je mrtva.'\n",
    "\n",
    "mentions = extractor.get_mentions(text_slo, 'slovenian')\n",
    "mentions"
   ]
  },
  {
   "cell_type": "code",
   "execution_count": 4,
   "id": "1130f320",
   "metadata": {},
   "outputs": [
    {
     "name": "stdout",
     "output_type": "stream",
     "text": [
      "Defaulting to user installation because normal site-packages is not writeable\n",
      "Collecting spacy_udpipe\n",
      "  Downloading spacy_udpipe-1.0.0-py3-none-any.whl (11 kB)\n",
      "Requirement already satisfied: spacy<4.0.0,>=3.0.0 in c:\\users\\matic\\appdata\\roaming\\python\\python37\\site-packages (from spacy_udpipe) (3.3.0)\n",
      "Collecting ufal.udpipe>=1.2.0\n",
      "  Downloading ufal.udpipe-1.2.0.3-cp37-cp37m-win_amd64.whl (691 kB)\n",
      "Requirement already satisfied: srsly<3.0.0,>=2.4.3 in c:\\users\\matic\\appdata\\roaming\\python\\python37\\site-packages (from spacy<4.0.0,>=3.0.0->spacy_udpipe) (2.4.3)\n",
      "Requirement already satisfied: preshed<3.1.0,>=3.0.2 in c:\\users\\matic\\appdata\\roaming\\python\\python37\\site-packages (from spacy<4.0.0,>=3.0.0->spacy_udpipe) (3.0.6)\n",
      "Requirement already satisfied: typer<0.5.0,>=0.3.0 in c:\\users\\matic\\appdata\\roaming\\python\\python37\\site-packages (from spacy<4.0.0,>=3.0.0->spacy_udpipe) (0.4.1)\n",
      "Requirement already satisfied: cymem<2.1.0,>=2.0.2 in c:\\users\\matic\\appdata\\roaming\\python\\python37\\site-packages (from spacy<4.0.0,>=3.0.0->spacy_udpipe) (2.0.6)\n",
      "Requirement already satisfied: spacy-legacy<3.1.0,>=3.0.9 in c:\\users\\matic\\appdata\\roaming\\python\\python37\\site-packages (from spacy<4.0.0,>=3.0.0->spacy_udpipe) (3.0.9)\n",
      "Requirement already satisfied: murmurhash<1.1.0,>=0.28.0 in c:\\users\\matic\\appdata\\roaming\\python\\python37\\site-packages (from spacy<4.0.0,>=3.0.0->spacy_udpipe) (1.0.7)\n",
      "Requirement already satisfied: thinc<8.1.0,>=8.0.14 in c:\\users\\matic\\appdata\\roaming\\python\\python37\\site-packages (from spacy<4.0.0,>=3.0.0->spacy_udpipe) (8.0.16)\n",
      "Requirement already satisfied: typing-extensions<4.0.0.0,>=3.7.4 in c:\\users\\matic\\appdata\\roaming\\python\\python37\\site-packages (from spacy<4.0.0,>=3.0.0->spacy_udpipe) (3.10.0.2)\n",
      "Requirement already satisfied: wasabi<1.1.0,>=0.9.1 in c:\\users\\matic\\appdata\\roaming\\python\\python37\\site-packages (from spacy<4.0.0,>=3.0.0->spacy_udpipe) (0.9.1)\n",
      "Requirement already satisfied: catalogue<2.1.0,>=2.0.6 in c:\\users\\matic\\appdata\\roaming\\python\\python37\\site-packages (from spacy<4.0.0,>=3.0.0->spacy_udpipe) (2.0.7)\n",
      "Requirement already satisfied: pydantic!=1.8,!=1.8.1,<1.9.0,>=1.7.4 in c:\\users\\matic\\appdata\\roaming\\python\\python37\\site-packages (from spacy<4.0.0,>=3.0.0->spacy_udpipe) (1.8.2)\n",
      "Requirement already satisfied: blis<0.8.0,>=0.4.0 in c:\\users\\matic\\appdata\\roaming\\python\\python37\\site-packages (from spacy<4.0.0,>=3.0.0->spacy_udpipe) (0.7.7)\n",
      "Requirement already satisfied: tqdm<5.0.0,>=4.38.0 in c:\\users\\matic\\appdata\\roaming\\python\\python37\\site-packages (from spacy<4.0.0,>=3.0.0->spacy_udpipe) (4.62.3)\n",
      "Requirement already satisfied: requests<3.0.0,>=2.13.0 in c:\\users\\matic\\appdata\\roaming\\python\\python37\\site-packages (from spacy<4.0.0,>=3.0.0->spacy_udpipe) (2.27.0)\n",
      "Requirement already satisfied: jinja2 in c:\\users\\matic\\appdata\\roaming\\python\\python37\\site-packages (from spacy<4.0.0,>=3.0.0->spacy_udpipe) (3.0.3)\n",
      "Requirement already satisfied: pathy>=0.3.5 in c:\\users\\matic\\appdata\\roaming\\python\\python37\\site-packages (from spacy<4.0.0,>=3.0.0->spacy_udpipe) (0.6.1)\n",
      "Requirement already satisfied: numpy>=1.15.0 in c:\\users\\matic\\appdata\\roaming\\python\\python37\\site-packages (from spacy<4.0.0,>=3.0.0->spacy_udpipe) (1.20.3)\n",
      "Requirement already satisfied: langcodes<4.0.0,>=3.2.0 in c:\\users\\matic\\appdata\\roaming\\python\\python37\\site-packages (from spacy<4.0.0,>=3.0.0->spacy_udpipe) (3.3.0)\n",
      "Requirement already satisfied: packaging>=20.0 in c:\\users\\matic\\appdata\\roaming\\python\\python37\\site-packages (from spacy<4.0.0,>=3.0.0->spacy_udpipe) (21.3)\n",
      "Requirement already satisfied: setuptools in c:\\program files\\python37\\lib\\site-packages (from spacy<4.0.0,>=3.0.0->spacy_udpipe) (47.1.0)\n",
      "Requirement already satisfied: spacy-loggers<2.0.0,>=1.0.0 in c:\\users\\matic\\appdata\\roaming\\python\\python37\\site-packages (from spacy<4.0.0,>=3.0.0->spacy_udpipe) (1.0.2)\n",
      "Requirement already satisfied: zipp>=0.5 in c:\\users\\matic\\appdata\\roaming\\python\\python37\\site-packages (from catalogue<2.1.0,>=2.0.6->spacy<4.0.0,>=3.0.0->spacy_udpipe) (3.7.0)\n",
      "Requirement already satisfied: pyparsing!=3.0.5,>=2.0.2 in c:\\users\\matic\\appdata\\roaming\\python\\python37\\site-packages (from packaging>=20.0->spacy<4.0.0,>=3.0.0->spacy_udpipe) (3.0.6)\n",
      "Requirement already satisfied: smart-open<6.0.0,>=5.0.0 in c:\\users\\matic\\appdata\\roaming\\python\\python37\\site-packages (from pathy>=0.3.5->spacy<4.0.0,>=3.0.0->spacy_udpipe) (5.2.1)\n",
      "Requirement already satisfied: charset-normalizer~=2.0.0 in c:\\users\\matic\\appdata\\roaming\\python\\python37\\site-packages (from requests<3.0.0,>=2.13.0->spacy<4.0.0,>=3.0.0->spacy_udpipe) (2.0.9)\n",
      "Requirement already satisfied: urllib3<1.27,>=1.21.1 in c:\\users\\matic\\appdata\\roaming\\python\\python37\\site-packages (from requests<3.0.0,>=2.13.0->spacy<4.0.0,>=3.0.0->spacy_udpipe) (1.26.7)\n",
      "Requirement already satisfied: certifi>=2017.4.17 in c:\\users\\matic\\appdata\\roaming\\python\\python37\\site-packages (from requests<3.0.0,>=2.13.0->spacy<4.0.0,>=3.0.0->spacy_udpipe) (2021.10.8)\n",
      "Requirement already satisfied: idna<4,>=2.5 in c:\\users\\matic\\appdata\\roaming\\python\\python37\\site-packages (from requests<3.0.0,>=2.13.0->spacy<4.0.0,>=3.0.0->spacy_udpipe) (3.3)\n",
      "Requirement already satisfied: colorama in c:\\users\\matic\\appdata\\roaming\\python\\python37\\site-packages (from tqdm<5.0.0,>=4.38.0->spacy<4.0.0,>=3.0.0->spacy_udpipe) (0.4.4)\n",
      "Requirement already satisfied: click<9.0.0,>=7.1.1 in c:\\users\\matic\\appdata\\roaming\\python\\python37\\site-packages (from typer<0.5.0,>=0.3.0->spacy<4.0.0,>=3.0.0->spacy_udpipe) (8.1.3)\n",
      "Requirement already satisfied: MarkupSafe>=2.0 in c:\\users\\matic\\appdata\\roaming\\python\\python37\\site-packages (from jinja2->spacy<4.0.0,>=3.0.0->spacy_udpipe) (2.0.1)\n",
      "Requirement already satisfied: importlib-metadata in c:\\users\\matic\\appdata\\roaming\\python\\python37\\site-packages (from click<9.0.0,>=7.1.1->typer<0.5.0,>=0.3.0->spacy<4.0.0,>=3.0.0->spacy_udpipe) (4.10.0)\n",
      "Installing collected packages: ufal.udpipe, spacy-udpipe\n",
      "Successfully installed spacy-udpipe-1.0.0 ufal.udpipe-1.2.0.3\n"
     ]
    },
    {
     "name": "stderr",
     "output_type": "stream",
     "text": [
      "WARNING: You are using pip version 21.3.1; however, version 22.1 is available.\n",
      "You should consider upgrading via the 'c:\\program files\\python37\\python.exe -m pip install --upgrade pip' command.\n"
     ]
    },
    {
     "name": "stdout",
     "output_type": "stream",
     "text": [
      "Downloaded pre-trained UDPipe model for 'sl' language\n",
      "Metka Metka PROPN nsubj\n",
      "Zahovič Zahovič PROPN flat:name\n",
      "je biti AUX aux\n",
      "šla iti VERB ROOT\n",
      "v v ADP case\n",
      "Mercator Mercator NOUN obl\n",
      "po po ADP case\n",
      "njene njen DET det\n",
      "kosmiče kosmič NOUN obl\n",
      "ter ter CCONJ cc\n",
      "ona on PRON nsubj\n",
      "je biti AUX cop\n",
      "mrtva mrtev ADJ conj\n",
      ". . PUNCT punct\n"
     ]
    }
   ],
   "source": [
    "!pip install spacy_udpipe\n",
    "\n",
    "import spacy_udpipe\n",
    "\n",
    "spacy_udpipe.download('sl')\n",
    "\n",
    "nlp = spacy_udpipe.load('sl')\n",
    "\n",
    "doc = nlp('Metka Zahovič je šla v Mercator po njene kosmiče ter ona je mrtva.')\n",
    "for token in doc:\n",
    "    print(token.text, token.lemma_, token.pos_, token.dep_)"
   ]
  },
  {
   "cell_type": "code",
   "execution_count": 33,
   "id": "e9aca395",
   "metadata": {},
   "outputs": [
    {
     "name": "stderr",
     "output_type": "stream",
     "text": [
      "2022-05-22 19:22:26 INFO: Loading these models for language: sl (Slovenian):\n",
      "========================\n",
      "| Processor | Package  |\n",
      "------------------------\n",
      "| tokenize  | standard |\n",
      "| pos       | standard |\n",
      "| lemma     | standard |\n",
      "| depparse  | standard |\n",
      "| ner       | standard |\n",
      "========================\n",
      "\n",
      "2022-05-22 19:22:26 INFO: Use device: cpu\n",
      "2022-05-22 19:22:26 INFO: Loading: tokenize\n",
      "2022-05-22 19:22:26 INFO: Loading: pos\n",
      "2022-05-22 19:22:38 INFO: Loading: lemma\n",
      "2022-05-22 19:22:52 INFO: Loading: depparse\n",
      "2022-05-22 19:22:54 INFO: Loading: ner\n",
      "2022-05-22 19:22:54 INFO: Done loading processors!\n"
     ]
    },
    {
     "name": "stdout",
     "output_type": "stream",
     "text": [
      "# newpar id = 1\n",
      "# sent_id = 1.1\n",
      "# text = Metka Zahovič je šla v Mercator po njene kosmiče ter ona je mrtva.\n",
      "1\tMetka\tMetka\tPROPN\tNpfsn\tCase=Nom|Gender=Fem|Number=Sing\t4\tnsubj\t_\tNER=B-PER\n",
      "2\tZahovič\tZahovič\tPROPN\tNpfsn\tCase=Nom|Gender=Fem|Number=Sing\t1\tflat:name\t_\tNER=I-PER\n",
      "3\tje\tbiti\tAUX\tVa-r3s-n\tMood=Ind|Number=Sing|Person=3|Polarity=Pos|Tense=Pres|VerbForm=Fin\t4\taux\t_\tNER=O\n",
      "4\tšla\titi\tVERB\tVmbp-sf\tGender=Fem|Number=Sing|VerbForm=Part\t0\troot\t_\tNER=O\n",
      "5\tv\tv\tADP\tSa\tCase=Acc\t6\tcase\t_\tNER=O\n",
      "6\tMercator\tMercator\tPROPN\tNpmsan\tAnimacy=Inan|Case=Acc|Gender=Masc|Number=Sing\t4\tobl\t_\tNER=B-ORG\n",
      "7\tpo\tpo\tADP\tSa\tCase=Acc\t9\tcase\t_\tNER=O\n",
      "8\tnjene\tnjen\tDET\tPs3mpasf\tCase=Acc|Gender=Masc|Gender[psor]=Fem|Number=Plur|Number[psor]=Sing|Person=3|Poss=Yes|PronType=Prs\t9\tdet\t_\tNER=O\n",
      "9\tkosmiče\tkosmič\tNOUN\tNcmpa\tCase=Acc|Gender=Masc|Number=Plur\t4\tobl\t_\tNER=O\n",
      "10\tter\tter\tCCONJ\tCc\t_\t13\tcc\t_\tNER=O\n",
      "11\tona\ton\tPRON\tPp3fsn\tCase=Nom|Gender=Fem|Number=Sing|Person=3|PronType=Prs\t13\tnsubj\t_\tNER=O\n",
      "12\tje\tbiti\tAUX\tVa-r3s-n\tMood=Ind|Number=Sing|Person=3|Polarity=Pos|Tense=Pres|VerbForm=Fin\t13\tcop\t_\tNER=O\n",
      "13\tmrtva\tmrtev\tADJ\tAgpfsn\tCase=Nom|Degree=Pos|Gender=Fem|Number=Sing\t4\tconj\t_\tNER=O|SpaceAfter=No\n",
      "14\t.\t.\tPUNCT\tZ\t_\t4\tpunct\t_\tNER=O\n",
      "\n",
      "\n"
     ]
    }
   ],
   "source": [
    "import classla\n",
    "\n",
    "classla.download('sl')\n",
    "\n",
    "\n",
    "sl_pipeline = classla.Pipeline(\"sl\", processors='tokenize, ner, lemma, pos, depparse')\n"
   ]
  },
  {
   "cell_type": "code",
   "execution_count": 37,
   "id": "96810cfc",
   "metadata": {},
   "outputs": [
    {
     "ename": "AttributeError",
     "evalue": "'Document' object has no attribute 'noun_chunks'",
     "output_type": "error",
     "traceback": [
      "\u001b[1;31m---------------------------------------------------------------------------\u001b[0m",
      "\u001b[1;31mAttributeError\u001b[0m                            Traceback (most recent call last)",
      "\u001b[1;32m~\\AppData\\Local\\Temp/ipykernel_21184/4118824752.py\u001b[0m in \u001b[0;36m<module>\u001b[1;34m\u001b[0m\n\u001b[0;32m      1\u001b[0m \u001b[0mdoc\u001b[0m \u001b[1;33m=\u001b[0m \u001b[0msl_pipeline\u001b[0m\u001b[1;33m(\u001b[0m\u001b[1;34m'Metka Zahovič je šla v Mercator po njene kosmiče ter ona je mrtva.'\u001b[0m\u001b[1;33m)\u001b[0m\u001b[1;33m\u001b[0m\u001b[1;33m\u001b[0m\u001b[0m\n\u001b[1;32m----> 2\u001b[1;33m \u001b[1;32mfor\u001b[0m \u001b[0mchunk\u001b[0m \u001b[1;32min\u001b[0m \u001b[0mdoc\u001b[0m\u001b[1;33m.\u001b[0m\u001b[0mnoun_chunks\u001b[0m\u001b[1;33m:\u001b[0m       \u001b[1;31m# iterate over the noun chunks in the Doc\u001b[0m\u001b[1;33m\u001b[0m\u001b[1;33m\u001b[0m\u001b[0m\n\u001b[0m\u001b[0;32m      3\u001b[0m     \u001b[0mprint\u001b[0m\u001b[1;33m(\u001b[0m\u001b[0mchunk\u001b[0m\u001b[1;33m.\u001b[0m\u001b[0mtext\u001b[0m\u001b[1;33m)\u001b[0m\u001b[1;33m\u001b[0m\u001b[1;33m\u001b[0m\u001b[0m\n",
      "\u001b[1;31mAttributeError\u001b[0m: 'Document' object has no attribute 'noun_chunks'"
     ]
    }
   ],
   "source": [
    "doc = sl_pipeline('Metka Zahovič je šla v Mercator po njene kosmiče ter ona je mrtva.')\n",
    "for chunk in doc.noun_chunks:\n",
    "    print(chunk.text)"
   ]
  },
  {
   "cell_type": "code",
   "execution_count": 39,
   "id": "8819a194",
   "metadata": {},
   "outputs": [
    {
     "ename": "TypeError",
     "evalue": "'Document' object is not iterable",
     "output_type": "error",
     "traceback": [
      "\u001b[1;31m---------------------------------------------------------------------------\u001b[0m",
      "\u001b[1;31mTypeError\u001b[0m                                 Traceback (most recent call last)",
      "\u001b[1;32m~\\AppData\\Local\\Temp/ipykernel_21184/1953966659.py\u001b[0m in \u001b[0;36m<module>\u001b[1;34m\u001b[0m\n\u001b[0;32m      5\u001b[0m                 options={'distance': 110,\n\u001b[0;32m      6\u001b[0m                          \u001b[1;34m'arrow_stroke'\u001b[0m\u001b[1;33m:\u001b[0m \u001b[1;36m2\u001b[0m\u001b[1;33m,\u001b[0m\u001b[1;33m\u001b[0m\u001b[1;33m\u001b[0m\u001b[0m\n\u001b[1;32m----> 7\u001b[1;33m                          'arrow_width': 8})\n\u001b[0m",
      "\u001b[1;32m~\\AppData\\Roaming\\Python\\Python37\\site-packages\\spacy\\displacy\\__init__.py\u001b[0m in \u001b[0;36mrender\u001b[1;34m(docs, style, page, minify, jupyter, options, manual)\u001b[0m\n\u001b[0;32m     51\u001b[0m     \u001b[1;32mif\u001b[0m \u001b[0misinstance\u001b[0m\u001b[1;33m(\u001b[0m\u001b[0mdocs\u001b[0m\u001b[1;33m,\u001b[0m \u001b[1;33m(\u001b[0m\u001b[0mDoc\u001b[0m\u001b[1;33m,\u001b[0m \u001b[0mSpan\u001b[0m\u001b[1;33m,\u001b[0m \u001b[0mdict\u001b[0m\u001b[1;33m)\u001b[0m\u001b[1;33m)\u001b[0m\u001b[1;33m:\u001b[0m\u001b[1;33m\u001b[0m\u001b[1;33m\u001b[0m\u001b[0m\n\u001b[0;32m     52\u001b[0m         \u001b[0mdocs\u001b[0m \u001b[1;33m=\u001b[0m \u001b[1;33m[\u001b[0m\u001b[0mdocs\u001b[0m\u001b[1;33m]\u001b[0m\u001b[1;33m\u001b[0m\u001b[1;33m\u001b[0m\u001b[0m\n\u001b[1;32m---> 53\u001b[1;33m     \u001b[0mdocs\u001b[0m \u001b[1;33m=\u001b[0m \u001b[1;33m[\u001b[0m\u001b[0mobj\u001b[0m \u001b[1;32mif\u001b[0m \u001b[1;32mnot\u001b[0m \u001b[0misinstance\u001b[0m\u001b[1;33m(\u001b[0m\u001b[0mobj\u001b[0m\u001b[1;33m,\u001b[0m \u001b[0mSpan\u001b[0m\u001b[1;33m)\u001b[0m \u001b[1;32melse\u001b[0m \u001b[0mobj\u001b[0m\u001b[1;33m.\u001b[0m\u001b[0mas_doc\u001b[0m\u001b[1;33m(\u001b[0m\u001b[1;33m)\u001b[0m \u001b[1;32mfor\u001b[0m \u001b[0mobj\u001b[0m \u001b[1;32min\u001b[0m \u001b[0mdocs\u001b[0m\u001b[1;33m]\u001b[0m\u001b[1;33m\u001b[0m\u001b[1;33m\u001b[0m\u001b[0m\n\u001b[0m\u001b[0;32m     54\u001b[0m     \u001b[1;32mif\u001b[0m \u001b[1;32mnot\u001b[0m \u001b[0mall\u001b[0m\u001b[1;33m(\u001b[0m\u001b[0misinstance\u001b[0m\u001b[1;33m(\u001b[0m\u001b[0mobj\u001b[0m\u001b[1;33m,\u001b[0m \u001b[1;33m(\u001b[0m\u001b[0mDoc\u001b[0m\u001b[1;33m,\u001b[0m \u001b[0mSpan\u001b[0m\u001b[1;33m,\u001b[0m \u001b[0mdict\u001b[0m\u001b[1;33m)\u001b[0m\u001b[1;33m)\u001b[0m \u001b[1;32mfor\u001b[0m \u001b[0mobj\u001b[0m \u001b[1;32min\u001b[0m \u001b[0mdocs\u001b[0m\u001b[1;33m)\u001b[0m\u001b[1;33m:\u001b[0m\u001b[1;33m\u001b[0m\u001b[1;33m\u001b[0m\u001b[0m\n\u001b[0;32m     55\u001b[0m         \u001b[1;32mraise\u001b[0m \u001b[0mValueError\u001b[0m\u001b[1;33m(\u001b[0m\u001b[0mErrors\u001b[0m\u001b[1;33m.\u001b[0m\u001b[0mE096\u001b[0m\u001b[1;33m)\u001b[0m\u001b[1;33m\u001b[0m\u001b[1;33m\u001b[0m\u001b[0m\n",
      "\u001b[1;31mTypeError\u001b[0m: 'Document' object is not iterable"
     ]
    }
   ],
   "source": [
    "from spacy import displacy\n",
    "doc = sl_pipeline('Metka Zahovič je šla v Mercator po njene kosmiče ter ona je mrtva.')\n",
    "\n",
    "displacy.render(doc, jupyter=True, \n",
    "                options={'distance': 110,\n",
    "                         'arrow_stroke': 2,\n",
    "                         'arrow_width': 8})"
   ]
  },
  {
   "cell_type": "code",
   "execution_count": null,
   "id": "1335faba",
   "metadata": {},
   "outputs": [],
   "source": []
  }
 ],
 "metadata": {
  "kernelspec": {
   "display_name": "Python 3 (ipykernel)",
   "language": "python",
   "name": "python3"
  },
  "language_info": {
   "codemirror_mode": {
    "name": "ipython",
    "version": 3
   },
   "file_extension": ".py",
   "mimetype": "text/x-python",
   "name": "python",
   "nbconvert_exporter": "python",
   "pygments_lexer": "ipython3",
   "version": "3.7.9"
  }
 },
 "nbformat": 4,
 "nbformat_minor": 5
}

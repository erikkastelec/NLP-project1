{
 "cells": [
  {
   "cell_type": "code",
   "execution_count": 1,
   "id": "e0078296",
   "metadata": {},
   "outputs": [
    {
     "name": "stderr",
     "output_type": "stream",
     "text": [
      "Downloading https://raw.githubusercontent.com/clarinsi/classla-resources/main/resources_1.0.1.json: 10.3kB [00:00, 5.14MB/s]\n",
      "2022-05-21 17:00:25 INFO: Downloading these customized packages for language: sl (Slovenian)...\n",
      "========================\n",
      "| Processor | Package  |\n",
      "------------------------\n",
      "| tokenize  | standard |\n",
      "| pos       | standard |\n",
      "| lemma     | standard |\n",
      "| depparse  | standard |\n",
      "| ner       | standard |\n",
      "| pretrain  | standard |\n",
      "========================\n",
      "\n",
      "2022-05-21 17:00:26 INFO: File exists: C:\\Users\\matic\\classla_resources\\sl\\pos\\standard.pt.\n",
      "2022-05-21 17:00:26 INFO: File exists: C:\\Users\\matic\\classla_resources\\sl\\lemma\\standard.pt.\n",
      "2022-05-21 17:00:26 INFO: File exists: C:\\Users\\matic\\classla_resources\\sl\\depparse\\standard.pt.\n",
      "2022-05-21 17:00:26 INFO: File exists: C:\\Users\\matic\\classla_resources\\sl\\ner\\standard.pt.\n",
      "2022-05-21 17:00:27 INFO: File exists: C:\\Users\\matic\\classla_resources\\sl\\pretrain\\standard.pt.\n",
      "2022-05-21 17:00:27 INFO: Finished downloading models and saved to C:\\Users\\matic\\classla_resources.\n",
      "[nltk_data] Downloading package punkt to\n",
      "[nltk_data]     C:\\Users\\matic\\AppData\\Roaming\\nltk_data...\n",
      "[nltk_data]   Package punkt is already up-to-date!\n",
      "[nltk_data] Downloading package averaged_perceptron_tagger to\n",
      "[nltk_data]     C:\\Users\\matic\\AppData\\Roaming\\nltk_data...\n",
      "[nltk_data]   Package averaged_perceptron_tagger is already up-to-\n",
      "[nltk_data]       date!\n"
     ]
    },
    {
     "name": "stdout",
     "output_type": "stream",
     "text": [
      "[('Victoria', 'NNP'), ('Chen', 'NNP'), (',', ','), ('CFO', 'NNP'), ('of', 'IN'), ('Megabucks', 'NNP'), ('Banking', 'NNP'), (',', ','), ('saw', 'VBD'), ('her', 'PRP'), ('pay', 'VB'), ('jump', 'NN'), ('to', 'TO'), ('$', '$'), ('2.3', 'CD'), ('million', 'CD'), (',', ','), ('as', 'IN'), ('the', 'DT'), ('38-year-old', 'JJ'), ('also', 'RB'), ('became', 'VBD'), ('the', 'DT'), ('company', 'NN'), ('’', 'NNP'), ('s', 'NN'), ('president', 'NN'), ('.', '.')]\n",
      "['her']\n",
      "\n",
      "\n",
      "[('It', 'PRP'), ('is', 'VBZ'), ('widely', 'RB'), ('known', 'VBN'), ('that', 'IN'), ('she', 'PRP'), ('came', 'VBD'), ('to', 'TO'), ('Megabucks', 'NNS'), ('from', 'IN'), ('rival', 'JJ'), ('Lotsabucks', 'NNP'), ('.', '.')]\n",
      "['It', 'she']\n",
      "\n",
      "\n"
     ]
    },
    {
     "data": {
      "text/plain": [
       "[['Victoria Chen',\n",
       "  'Megabucks Banking',\n",
       "  'pay jump',\n",
       "  'company ’ s president',\n",
       "  'her',\n",
       "  'CFO'],\n",
       " ['It', 'she', 'Megabucks', 'Lotsabucks']]"
      ]
     },
     "execution_count": 1,
     "metadata": {},
     "output_type": "execute_result"
    }
   ],
   "source": [
    "from mention_extraction import MentionDetector\n",
    "\n",
    "\n",
    "extractor = MentionDetector()\n",
    "\n",
    "text_en = 'Victoria Chen, CFO of Megabucks Banking, saw her pay jump to $2.3 million, as the 38-year-old also became the company’s president. It is widely known that she came to Megabucks from rival Lotsabucks.'\n",
    "\n",
    "mentions = extractor.get_mentions(text_en, 'english')\n",
    "mentions"
   ]
  },
  {
   "cell_type": "code",
   "execution_count": 2,
   "id": "9a9f3e83",
   "metadata": {},
   "outputs": [
    {
     "name": "stderr",
     "output_type": "stream",
     "text": [
      "2022-05-21 17:00:27 INFO: Loading these models for language: sl (Slovenian):\n",
      "========================\n",
      "| Processor | Package  |\n",
      "------------------------\n",
      "| tokenize  | standard |\n",
      "| pos       | standard |\n",
      "| lemma     | standard |\n",
      "| depparse  | standard |\n",
      "| ner       | standard |\n",
      "========================\n",
      "\n",
      "2022-05-21 17:00:27 INFO: Use device: cpu\n",
      "2022-05-21 17:00:27 INFO: Loading: tokenize\n",
      "2022-05-21 17:00:27 INFO: Loading: pos\n",
      "2022-05-21 17:00:37 INFO: Loading: lemma\n",
      "2022-05-21 17:00:47 INFO: Loading: depparse\n",
      "2022-05-21 17:00:48 INFO: Loading: ner\n",
      "2022-05-21 17:00:48 INFO: Done loading processors!\n"
     ]
    },
    {
     "name": "stdout",
     "output_type": "stream",
     "text": [
      "# newpar id = 1\n",
      "# sent_id = 1.1\n",
      "# text = Metka Zahovič je šla v Mercator po njene kosmiče ter ona je mrtva.\n",
      "1\tMetka\tMetka\tPROPN\tNpfsn\tCase=Nom|Gender=Fem|Number=Sing\t4\tnsubj\t_\tNER=B-PER\n",
      "2\tZahovič\tZahovič\tPROPN\tNpfsn\tCase=Nom|Gender=Fem|Number=Sing\t1\tflat:name\t_\tNER=I-PER\n",
      "3\tje\tbiti\tAUX\tVa-r3s-n\tMood=Ind|Number=Sing|Person=3|Polarity=Pos|Tense=Pres|VerbForm=Fin\t4\taux\t_\tNER=O\n",
      "4\tšla\titi\tVERB\tVmbp-sf\tGender=Fem|Number=Sing|VerbForm=Part\t0\troot\t_\tNER=O\n",
      "5\tv\tv\tADP\tSa\tCase=Acc\t6\tcase\t_\tNER=O\n",
      "6\tMercator\tMercator\tPROPN\tNpmsan\tAnimacy=Inan|Case=Acc|Gender=Masc|Number=Sing\t4\tobl\t_\tNER=B-ORG\n",
      "7\tpo\tpo\tADP\tSa\tCase=Acc\t9\tcase\t_\tNER=O\n",
      "8\tnjene\tnjen\tDET\tPs3mpasf\tCase=Acc|Gender=Masc|Gender[psor]=Fem|Number=Plur|Number[psor]=Sing|Person=3|Poss=Yes|PronType=Prs\t9\tdet\t_\tNER=O\n",
      "9\tkosmiče\tkosmič\tNOUN\tNcmpa\tCase=Acc|Gender=Masc|Number=Plur\t4\tobl\t_\tNER=O\n",
      "10\tter\tter\tCCONJ\tCc\t_\t13\tcc\t_\tNER=O\n",
      "11\tona\ton\tPRON\tPp3fsn\tCase=Nom|Gender=Fem|Number=Sing|Person=3|PronType=Prs\t13\tnsubj\t_\tNER=O\n",
      "12\tje\tbiti\tAUX\tVa-r3s-n\tMood=Ind|Number=Sing|Person=3|Polarity=Pos|Tense=Pres|VerbForm=Fin\t13\tcop\t_\tNER=O\n",
      "13\tmrtva\tmrtev\tADJ\tAgpfsn\tCase=Nom|Degree=Pos|Gender=Fem|Number=Sing\t4\tconj\t_\tNER=O|SpaceAfter=No\n",
      "14\t.\t.\tPUNCT\tZ\t_\t4\tpunct\t_\tNER=O\n",
      "\n",
      "\n"
     ]
    }
   ],
   "source": [
    "text_slo = 'Metka Zahovič je šla v Mercator po njene kosmiče ter ona je mrtva.'\n",
    "\n",
    "mentions = extractor.get_mentions(text_slo, 'slovenian')\n",
    "mentions"
   ]
  },
  {
   "cell_type": "code",
   "execution_count": null,
   "id": "b21b4c99",
   "metadata": {},
   "outputs": [],
   "source": []
  }
 ],
 "metadata": {
  "kernelspec": {
   "display_name": "Python 3 (ipykernel)",
   "language": "python",
   "name": "python3"
  },
  "language_info": {
   "codemirror_mode": {
    "name": "ipython",
    "version": 3
   },
   "file_extension": ".py",
   "mimetype": "text/x-python",
   "name": "python",
   "nbconvert_exporter": "python",
   "pygments_lexer": "ipython3",
   "version": "3.7.9"
  }
 },
 "nbformat": 4,
 "nbformat_minor": 5
}

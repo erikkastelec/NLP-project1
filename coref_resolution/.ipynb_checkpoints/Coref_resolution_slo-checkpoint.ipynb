{
 "cells": [
  {
   "cell_type": "code",
   "execution_count": 1,
   "id": "3352f0b7",
   "metadata": {
    "scrolled": true,
    "pycharm": {
     "name": "#%%\n"
    }
   },
   "outputs": [
    {
     "name": "stdout",
     "output_type": "stream",
     "text": [
      "Defaulting to user installation because normal site-packages is not writeable\n",
      "Collecting lxml==4.6.4\n",
      "  Using cached lxml-4.6.4-cp37-cp37m-win_amd64.whl (3.5 MB)\n",
      "Collecting beautifulsoup4==4.10.0\n",
      "  Using cached beautifulsoup4-4.10.0-py3-none-any.whl (97 kB)\n",
      "Collecting numpy==1.21.4\n",
      "  Using cached numpy-1.21.4-cp37-cp37m-win_amd64.whl (14.0 MB)\n",
      "Collecting scikit-learn==1.0.1\n",
      "  Using cached scikit_learn-1.0.1-cp37-cp37m-win_amd64.whl (7.2 MB)\n"
     ]
    },
    {
     "name": "stderr",
     "output_type": "stream",
     "text": [
      "ERROR: Ignored the following versions that require a different python version: 1.1.0 Requires-Python >=3.8; 1.1.0rc1 Requires-Python >=3.8; 1.1.1 Requires-Python >=3.8; 1.22.0 Requires-Python >=3.8; 1.22.0rc1 Requires-Python >=3.8; 1.22.0rc2 Requires-Python >=3.8; 1.22.0rc3 Requires-Python >=3.8; 1.22.1 Requires-Python >=3.8; 1.22.2 Requires-Python >=3.8; 1.22.3 Requires-Python >=3.8; 1.22.4 Requires-Python >=3.8\n",
      "ERROR: Could not find a version that satisfies the requirement torch==1.10.0+cpu (from versions: 1.7.0, 1.7.1, 1.8.0, 1.8.1, 1.9.0, 1.9.1, 1.10.0, 1.10.1, 1.10.2, 1.11.0)\n",
      "ERROR: No matching distribution found for torch==1.10.0+cpu\n"
     ]
    }
   ],
   "source": [
    "# TRAIN\n",
    "!python src/contextual_model_bert.py \\\n",
    "    --model_name=\"my_bert_model\" \\\n",
    "    --dataset=\"senticoref\" \\\n",
    "    --fc_hidden_size=\"64\" \\\n",
    "    --dropout=\"0.35\" \\\n",
    "    --learning_rate=\"0.001\" \\\n",
    "    --num_epochs=\"20\" \\\n",
    "    --freeze_pretrained \\\n",
    "    --fixed_split"
   ]
  },
  {
   "cell_type": "code",
   "execution_count": 3,
   "id": "99e5f8d9",
   "metadata": {
    "pycharm": {
     "name": "#%%\n"
    }
   },
   "outputs": [
    {
     "name": "stdout",
     "output_type": "stream",
     "text": [
      "Defaulting to user installation because normal site-packages is not writeable\n",
      "Collecting torch==1.10.0\n",
      "  Downloading torch-1.10.0-cp37-cp37m-win_amd64.whl (226.6 MB)\n",
      "Requirement already satisfied: typing-extensions in c:\\users\\matic\\appdata\\roaming\\python\\python37\\site-packages (from torch==1.10.0) (3.10.0.2)\n",
      "Installing collected packages: torch\n",
      "  Attempting uninstall: torch\n",
      "    Found existing installation: torch 1.11.0\n",
      "    Uninstalling torch-1.11.0:\n",
      "      Successfully uninstalled torch-1.11.0\n"
     ]
    },
    {
     "name": "stderr",
     "output_type": "stream",
     "text": [
      "ERROR: Could not install packages due to an OSError: [WinError 5] Access is denied: 'c:\\\\users\\\\matic\\\\appdata\\\\roaming\\\\python\\\\python37\\\\site-packages\\\\~orch\\\\lib\\\\asmjit.dll'\n",
      "Check the permissions.\n",
      "\n",
      "WARNING: You are using pip version 21.3.1; however, version 22.1 is available.\n",
      "You should consider upgrading via the 'c:\\program files\\python37\\python.exe -m pip install --upgrade pip' command.\n"
     ]
    }
   ],
   "source": [
    "!pip install torch==1.10.0"
   ]
  },
  {
   "cell_type": "code",
   "execution_count": null,
   "id": "604dae70",
   "metadata": {
    "pycharm": {
     "name": "#%%\n"
    }
   },
   "outputs": [],
   "source": []
  }
 ],
 "metadata": {
  "kernelspec": {
   "display_name": "Python 3 (ipykernel)",
   "language": "python",
   "name": "python3"
  },
  "language_info": {
   "codemirror_mode": {
    "name": "ipython",
    "version": 3
   },
   "file_extension": ".py",
   "mimetype": "text/x-python",
   "name": "python",
   "nbconvert_exporter": "python",
   "pygments_lexer": "ipython3",
   "version": "3.7.9"
  }
 },
 "nbformat": 4,
 "nbformat_minor": 5
}
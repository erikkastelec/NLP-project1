{
 "cells": [
  {
   "cell_type": "code",
   "execution_count": null,
   "id": "c04073ef",
   "metadata": {},
   "outputs": [],
   "source": [
    "import helper_functions"
   ]
  },
  {
   "cell_type": "code",
   "execution_count": null,
   "id": "3352f0b7",
   "metadata": {
    "scrolled": true
   },
   "outputs": [],
   "source": [
    "# TRAIN\n",
    "!python src/contextual_model_bert.py \\\n",
    "    --model_name=\"my_bert_model\" \\\n",
    "    --dataset=\"senticoref\" \\\n",
    "    --fc_hidden_size=\"64\" \\\n",
    "    --dropout=\"0.35\" \\\n",
    "    --learning_rate=\"0.001\" \\\n",
    "    --num_epochs=\"20\" \\\n",
    "    --freeze_pretrained \\\n",
    "    --fixed_split"
   ]
  },
  {
   "cell_type": "code",
   "execution_count": null,
   "id": "99e5f8d9",
   "metadata": {},
   "outputs": [],
   "source": [
    "helper_functions.predict('Janez Novak je šel v Mercator. Tam je kupil mleko. Nato ga je spreletela misel, da bi moral iti v Hofer.', 0.01, True)"
   ]
  },
  {
   "cell_type": "code",
   "execution_count": null,
   "id": "604dae70",
   "metadata": {},
   "outputs": [],
   "source": []
  }
 ],
 "metadata": {
  "kernelspec": {
   "display_name": "Python 3 (ipykernel)",
   "language": "python",
   "name": "python3"
  },
  "language_info": {
   "codemirror_mode": {
    "name": "ipython",
    "version": 3
   },
   "file_extension": ".py",
   "mimetype": "text/x-python",
   "name": "python",
   "nbconvert_exporter": "python",
   "pygments_lexer": "ipython3",
   "version": "3.7.9"
  }
 },
 "nbformat": 4,
 "nbformat_minor": 5
}

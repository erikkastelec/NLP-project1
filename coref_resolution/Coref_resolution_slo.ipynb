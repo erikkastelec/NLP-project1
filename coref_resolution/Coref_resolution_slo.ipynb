{
 "cells": [
  {
   "cell_type": "markdown",
   "id": "63ff2dbe",
   "metadata": {},
   "source": [
    "# Slovene"
   ]
  },
  {
   "cell_type": "code",
   "execution_count": null,
   "id": "c04073ef",
   "metadata": {},
   "outputs": [],
   "source": [
    "import helper_functions"
   ]
  },
  {
   "cell_type": "code",
   "execution_count": null,
   "id": "3352f0b7",
   "metadata": {
    "scrolled": true
   },
   "outputs": [],
   "source": [
    "# TRAIN - bert already pretrained in contextual_model_bert/my_bert_model\n",
    "!python src/contextual_model_bert.py \\\n",
    "    --model_name=\"my_bert_model\" \\\n",
    "    --dataset=\"senticoref\" \\\n",
    "    --fc_hidden_size=\"64\" \\\n",
    "    --dropout=\"0.35\" \\\n",
    "    --learning_rate=\"0.001\" \\\n",
    "    --num_epochs=\"20\" \\\n",
    "    --freeze_pretrained \\\n",
    "    --fixed_split"
   ]
  },
  {
   "cell_type": "code",
   "execution_count": null,
   "id": "99e5f8d9",
   "metadata": {},
   "outputs": [],
   "source": [
    "# get mentions and coreferences with scores\n",
    "helper_functions.predict('Janez Novak je šel v Mercator. Tam je kupil mleko. Nato ga je spreletela misel, da bi moral iti v Hofer.', 0.01, True)"
   ]
  },
  {
   "cell_type": "markdown",
   "id": "fc204543",
   "metadata": {},
   "source": [
    "# English"
   ]
  },
  {
   "cell_type": "code",
   "execution_count": 6,
   "id": "44db8e79",
   "metadata": {},
   "outputs": [
    {
     "ename": "AttributeError",
     "evalue": "type object 'neuralcoref.neuralcoref.array' has no attribute '__reduce_cython__'",
     "output_type": "error",
     "traceback": [
      "\u001b[1;31m---------------------------------------------------------------------------\u001b[0m",
      "\u001b[1;31mAttributeError\u001b[0m                            Traceback (most recent call last)",
      "\u001b[1;32m~\\AppData\\Local\\Temp/ipykernel_12324/999124728.py\u001b[0m in \u001b[0;36m<module>\u001b[1;34m\u001b[0m\n\u001b[0;32m      4\u001b[0m \u001b[1;33m\u001b[0m\u001b[0m\n\u001b[0;32m      5\u001b[0m \u001b[1;31m# Add neural coref to SpaCy's pipe\u001b[0m\u001b[1;33m\u001b[0m\u001b[1;33m\u001b[0m\u001b[1;33m\u001b[0m\u001b[0m\n\u001b[1;32m----> 6\u001b[1;33m \u001b[1;32mimport\u001b[0m \u001b[0mneuralcoref\u001b[0m\u001b[1;33m\u001b[0m\u001b[1;33m\u001b[0m\u001b[0m\n\u001b[0m\u001b[0;32m      7\u001b[0m \u001b[0mneuralcoref\u001b[0m\u001b[1;33m.\u001b[0m\u001b[0madd_to_pipe\u001b[0m\u001b[1;33m(\u001b[0m\u001b[0mnlp\u001b[0m\u001b[1;33m)\u001b[0m\u001b[1;33m\u001b[0m\u001b[1;33m\u001b[0m\u001b[0m\n\u001b[0;32m      8\u001b[0m \u001b[1;33m\u001b[0m\u001b[0m\n",
      "\u001b[1;32m~\\AppData\\Roaming\\Python\\Python37\\site-packages\\neuralcoref\\__init__.py\u001b[0m in \u001b[0;36m<module>\u001b[1;34m\u001b[0m\n\u001b[0;32m     12\u001b[0m \u001b[0mwarnings\u001b[0m\u001b[1;33m.\u001b[0m\u001b[0mfilterwarnings\u001b[0m\u001b[1;33m(\u001b[0m\u001b[1;34m\"ignore\"\u001b[0m\u001b[1;33m,\u001b[0m \u001b[0mmessage\u001b[0m\u001b[1;33m=\u001b[0m\u001b[1;34m\"spacy.strings.StringStore size changed,\"\u001b[0m\u001b[1;33m)\u001b[0m\u001b[1;33m\u001b[0m\u001b[1;33m\u001b[0m\u001b[0m\n\u001b[0;32m     13\u001b[0m \u001b[1;33m\u001b[0m\u001b[0m\n\u001b[1;32m---> 14\u001b[1;33m \u001b[1;32mfrom\u001b[0m \u001b[1;33m.\u001b[0m\u001b[0mneuralcoref\u001b[0m \u001b[1;32mimport\u001b[0m \u001b[0mNeuralCoref\u001b[0m\u001b[1;33m\u001b[0m\u001b[1;33m\u001b[0m\u001b[0m\n\u001b[0m\u001b[0;32m     15\u001b[0m \u001b[1;32mfrom\u001b[0m \u001b[1;33m.\u001b[0m\u001b[0mfile_utils\u001b[0m \u001b[1;32mimport\u001b[0m \u001b[0mNEURALCOREF_MODEL_URL\u001b[0m\u001b[1;33m,\u001b[0m \u001b[0mNEURALCOREF_MODEL_PATH\u001b[0m\u001b[1;33m,\u001b[0m \u001b[0mNEURALCOREF_CACHE\u001b[0m\u001b[1;33m,\u001b[0m \u001b[0mcached_path\u001b[0m\u001b[1;33m\u001b[0m\u001b[1;33m\u001b[0m\u001b[0m\n\u001b[0;32m     16\u001b[0m \u001b[1;33m\u001b[0m\u001b[0m\n",
      "\u001b[1;32m~\\AppData\\Roaming\\Python\\Python37\\site-packages\\neuralcoref\\neuralcoref.cp37-win_amd64.pyd\u001b[0m in \u001b[0;36minit neuralcoref.neuralcoref\u001b[1;34m()\u001b[0m\n",
      "\u001b[1;31mAttributeError\u001b[0m: type object 'neuralcoref.neuralcoref.array' has no attribute '__reduce_cython__'"
     ]
    }
   ],
   "source": [
    "# Load your usual SpaCy model (one of SpaCy English models)\n",
    "import spacy\n",
    "nlp = spacy.load(\"en_core_web_sm\")\n",
    "\n",
    "# Add neural coref to SpaCy's pipe\n",
    "import neuralcoref\n",
    "neuralcoref.add_to_pipe(nlp)\n",
    "\n",
    "# You're done. You can now use NeuralCoref as you usually manipulate a SpaCy document annotations.\n",
    "doc = nlp(u'My sister has a dog. She loves him.')\n",
    "\n",
    "doc._.has_coref\n",
    "doc._.coref_clusters"
   ]
  },
  {
   "cell_type": "code",
   "execution_count": null,
   "id": "67620afd",
   "metadata": {},
   "outputs": [],
   "source": [
    "!pip uninstall neuralcoref\n",
    "!git clone https://github.com/huggingface/neuralcoref.git\n",
    "%cd neuralcoref\n",
    "!pip install -r requirements.txt\n",
    "!pip install -e .\n",
    "!pip uninstall spacy\n",
    "!pip install spacy\n",
    "!python -m spacy download en"
   ]
  },
  {
   "cell_type": "code",
   "execution_count": null,
   "id": "aee4ecb9",
   "metadata": {},
   "outputs": [],
   "source": []
  }
 ],
 "metadata": {
  "kernelspec": {
   "display_name": "Python 3 (ipykernel)",
   "language": "python",
   "name": "python3"
  },
  "language_info": {
   "codemirror_mode": {
    "name": "ipython",
    "version": 3
   },
   "file_extension": ".py",
   "mimetype": "text/x-python",
   "name": "python",
   "nbconvert_exporter": "python",
   "pygments_lexer": "ipython3",
   "version": "3.7.9"
  }
 },
 "nbformat": 4,
 "nbformat_minor": 5
}
